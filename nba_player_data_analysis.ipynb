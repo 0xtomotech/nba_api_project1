{
 "cells": [
  {
   "cell_type": "markdown",
   "metadata": {},
   "source": [
    "## NBA Player Stats Analysis\n"
   ]
  },
  {
   "cell_type": "code",
   "execution_count": 7,
   "metadata": {},
   "outputs": [],
   "source": [
    "import pandas as pd\n",
    "import plotly.express as px\n",
    "import plotly.graph_objects as go\n",
    "\n",
    "# display all columns\n",
    "pd.set_option('display.max_columns', None)\n",
    "\n",
    "# read in data\n",
    "data = pd.read_csv('nba_player_data.csv')"
   ]
  },
  {
   "cell_type": "code",
   "execution_count": 8,
   "metadata": {},
   "outputs": [
    {
     "data": {
      "text/plain": [
       "(7209, 30)"
      ]
     },
     "execution_count": 8,
     "metadata": {},
     "output_type": "execute_result"
    }
   ],
   "source": [
    "data.shape"
   ]
  },
  {
   "cell_type": "code",
   "execution_count": 9,
   "metadata": {},
   "outputs": [
    {
     "data": {
      "text/html": [
       "<div>\n",
       "<style scoped>\n",
       "    .dataframe tbody tr th:only-of-type {\n",
       "        vertical-align: middle;\n",
       "    }\n",
       "\n",
       "    .dataframe tbody tr th {\n",
       "        vertical-align: top;\n",
       "    }\n",
       "\n",
       "    .dataframe thead th {\n",
       "        text-align: right;\n",
       "    }\n",
       "</style>\n",
       "<table border=\"1\" class=\"dataframe\">\n",
       "  <thead>\n",
       "    <tr style=\"text-align: right;\">\n",
       "      <th></th>\n",
       "      <th>Year</th>\n",
       "      <th>Season_type</th>\n",
       "      <th>PLAYER_ID</th>\n",
       "      <th>RANK</th>\n",
       "      <th>PLAYER</th>\n",
       "      <th>TEAM_ID</th>\n",
       "      <th>TEAM</th>\n",
       "      <th>GP</th>\n",
       "      <th>MIN</th>\n",
       "      <th>FGM</th>\n",
       "      <th>FGA</th>\n",
       "      <th>FG_PCT</th>\n",
       "      <th>FG3M</th>\n",
       "      <th>FG3A</th>\n",
       "      <th>FG3_PCT</th>\n",
       "      <th>FTM</th>\n",
       "      <th>FTA</th>\n",
       "      <th>FT_PCT</th>\n",
       "      <th>OREB</th>\n",
       "      <th>DREB</th>\n",
       "      <th>REB</th>\n",
       "      <th>AST</th>\n",
       "      <th>STL</th>\n",
       "      <th>BLK</th>\n",
       "      <th>TOV</th>\n",
       "      <th>PF</th>\n",
       "      <th>PTS</th>\n",
       "      <th>EFF</th>\n",
       "      <th>AST_TOV</th>\n",
       "      <th>STL_TOV</th>\n",
       "    </tr>\n",
       "  </thead>\n",
       "  <tbody>\n",
       "    <tr>\n",
       "      <th>0</th>\n",
       "      <td>2014-15</td>\n",
       "      <td>Regular%20Season</td>\n",
       "      <td>201935</td>\n",
       "      <td>1</td>\n",
       "      <td>James Harden</td>\n",
       "      <td>1610612745</td>\n",
       "      <td>HOU</td>\n",
       "      <td>81</td>\n",
       "      <td>2981</td>\n",
       "      <td>647</td>\n",
       "      <td>1470</td>\n",
       "      <td>0.440</td>\n",
       "      <td>208</td>\n",
       "      <td>555</td>\n",
       "      <td>0.375</td>\n",
       "      <td>715</td>\n",
       "      <td>824</td>\n",
       "      <td>0.868</td>\n",
       "      <td>75</td>\n",
       "      <td>384</td>\n",
       "      <td>459</td>\n",
       "      <td>565</td>\n",
       "      <td>154</td>\n",
       "      <td>60</td>\n",
       "      <td>321</td>\n",
       "      <td>208</td>\n",
       "      <td>2217</td>\n",
       "      <td>2202</td>\n",
       "      <td>1.76</td>\n",
       "      <td>0.48</td>\n",
       "    </tr>\n",
       "    <tr>\n",
       "      <th>1</th>\n",
       "      <td>2014-15</td>\n",
       "      <td>Regular%20Season</td>\n",
       "      <td>201939</td>\n",
       "      <td>2</td>\n",
       "      <td>Stephen Curry</td>\n",
       "      <td>1610612744</td>\n",
       "      <td>GSW</td>\n",
       "      <td>80</td>\n",
       "      <td>2613</td>\n",
       "      <td>653</td>\n",
       "      <td>1341</td>\n",
       "      <td>0.487</td>\n",
       "      <td>286</td>\n",
       "      <td>646</td>\n",
       "      <td>0.443</td>\n",
       "      <td>308</td>\n",
       "      <td>337</td>\n",
       "      <td>0.914</td>\n",
       "      <td>56</td>\n",
       "      <td>285</td>\n",
       "      <td>341</td>\n",
       "      <td>619</td>\n",
       "      <td>163</td>\n",
       "      <td>16</td>\n",
       "      <td>249</td>\n",
       "      <td>158</td>\n",
       "      <td>1900</td>\n",
       "      <td>2073</td>\n",
       "      <td>2.49</td>\n",
       "      <td>0.66</td>\n",
       "    </tr>\n",
       "    <tr>\n",
       "      <th>2</th>\n",
       "      <td>2014-15</td>\n",
       "      <td>Regular%20Season</td>\n",
       "      <td>201566</td>\n",
       "      <td>3</td>\n",
       "      <td>Russell Westbrook</td>\n",
       "      <td>1610612760</td>\n",
       "      <td>OKC</td>\n",
       "      <td>67</td>\n",
       "      <td>2302</td>\n",
       "      <td>627</td>\n",
       "      <td>1471</td>\n",
       "      <td>0.426</td>\n",
       "      <td>86</td>\n",
       "      <td>288</td>\n",
       "      <td>0.299</td>\n",
       "      <td>546</td>\n",
       "      <td>654</td>\n",
       "      <td>0.835</td>\n",
       "      <td>124</td>\n",
       "      <td>364</td>\n",
       "      <td>488</td>\n",
       "      <td>574</td>\n",
       "      <td>140</td>\n",
       "      <td>14</td>\n",
       "      <td>293</td>\n",
       "      <td>184</td>\n",
       "      <td>1886</td>\n",
       "      <td>1857</td>\n",
       "      <td>1.96</td>\n",
       "      <td>0.48</td>\n",
       "    </tr>\n",
       "    <tr>\n",
       "      <th>3</th>\n",
       "      <td>2014-15</td>\n",
       "      <td>Regular%20Season</td>\n",
       "      <td>2544</td>\n",
       "      <td>4</td>\n",
       "      <td>LeBron James</td>\n",
       "      <td>1610612739</td>\n",
       "      <td>CLE</td>\n",
       "      <td>69</td>\n",
       "      <td>2493</td>\n",
       "      <td>624</td>\n",
       "      <td>1279</td>\n",
       "      <td>0.488</td>\n",
       "      <td>120</td>\n",
       "      <td>339</td>\n",
       "      <td>0.354</td>\n",
       "      <td>375</td>\n",
       "      <td>528</td>\n",
       "      <td>0.710</td>\n",
       "      <td>51</td>\n",
       "      <td>365</td>\n",
       "      <td>416</td>\n",
       "      <td>511</td>\n",
       "      <td>109</td>\n",
       "      <td>49</td>\n",
       "      <td>272</td>\n",
       "      <td>135</td>\n",
       "      <td>1743</td>\n",
       "      <td>1748</td>\n",
       "      <td>1.88</td>\n",
       "      <td>0.40</td>\n",
       "    </tr>\n",
       "    <tr>\n",
       "      <th>4</th>\n",
       "      <td>2014-15</td>\n",
       "      <td>Regular%20Season</td>\n",
       "      <td>203081</td>\n",
       "      <td>5</td>\n",
       "      <td>Damian Lillard</td>\n",
       "      <td>1610612757</td>\n",
       "      <td>POR</td>\n",
       "      <td>82</td>\n",
       "      <td>2925</td>\n",
       "      <td>590</td>\n",
       "      <td>1360</td>\n",
       "      <td>0.434</td>\n",
       "      <td>196</td>\n",
       "      <td>572</td>\n",
       "      <td>0.343</td>\n",
       "      <td>344</td>\n",
       "      <td>398</td>\n",
       "      <td>0.864</td>\n",
       "      <td>49</td>\n",
       "      <td>329</td>\n",
       "      <td>378</td>\n",
       "      <td>507</td>\n",
       "      <td>97</td>\n",
       "      <td>21</td>\n",
       "      <td>222</td>\n",
       "      <td>164</td>\n",
       "      <td>1720</td>\n",
       "      <td>1677</td>\n",
       "      <td>2.28</td>\n",
       "      <td>0.44</td>\n",
       "    </tr>\n",
       "  </tbody>\n",
       "</table>\n",
       "</div>"
      ],
      "text/plain": [
       "      Year       Season_type  PLAYER_ID  RANK             PLAYER     TEAM_ID  \\\n",
       "0  2014-15  Regular%20Season     201935     1       James Harden  1610612745   \n",
       "1  2014-15  Regular%20Season     201939     2      Stephen Curry  1610612744   \n",
       "2  2014-15  Regular%20Season     201566     3  Russell Westbrook  1610612760   \n",
       "3  2014-15  Regular%20Season       2544     4       LeBron James  1610612739   \n",
       "4  2014-15  Regular%20Season     203081     5     Damian Lillard  1610612757   \n",
       "\n",
       "  TEAM  GP   MIN  FGM   FGA  FG_PCT  FG3M  FG3A  FG3_PCT  FTM  FTA  FT_PCT  \\\n",
       "0  HOU  81  2981  647  1470   0.440   208   555    0.375  715  824   0.868   \n",
       "1  GSW  80  2613  653  1341   0.487   286   646    0.443  308  337   0.914   \n",
       "2  OKC  67  2302  627  1471   0.426    86   288    0.299  546  654   0.835   \n",
       "3  CLE  69  2493  624  1279   0.488   120   339    0.354  375  528   0.710   \n",
       "4  POR  82  2925  590  1360   0.434   196   572    0.343  344  398   0.864   \n",
       "\n",
       "   OREB  DREB  REB  AST  STL  BLK  TOV   PF   PTS   EFF  AST_TOV  STL_TOV  \n",
       "0    75   384  459  565  154   60  321  208  2217  2202     1.76     0.48  \n",
       "1    56   285  341  619  163   16  249  158  1900  2073     2.49     0.66  \n",
       "2   124   364  488  574  140   14  293  184  1886  1857     1.96     0.48  \n",
       "3    51   365  416  511  109   49  272  135  1743  1748     1.88     0.40  \n",
       "4    49   329  378  507   97   21  222  164  1720  1677     2.28     0.44  "
      ]
     },
     "execution_count": 9,
     "metadata": {},
     "output_type": "execute_result"
    }
   ],
   "source": [
    "data.head()"
   ]
  },
  {
   "cell_type": "markdown",
   "metadata": {},
   "source": [
    "### Data cleaning & preparation"
   ]
  },
  {
   "cell_type": "code",
   "execution_count": 10,
   "metadata": {},
   "outputs": [],
   "source": [
    "# Drop columns that are not needed\n",
    "data.drop(columns=['RANK', 'EFF'], inplace=True)"
   ]
  },
  {
   "cell_type": "code",
   "execution_count": 11,
   "metadata": {},
   "outputs": [],
   "source": [
    "# Rename columns and clean up column names\n",
    "data['season_start_year'] = data['Year'].str[:4].astype(int)"
   ]
  },
  {
   "cell_type": "code",
   "execution_count": 12,
   "metadata": {},
   "outputs": [],
   "source": [
    "# Clean Season type data\n",
    "data['Season_type'].replace('Regular%20Season', 'Regular Season', inplace=True)"
   ]
  },
  {
   "cell_type": "code",
   "execution_count": 13,
   "metadata": {},
   "outputs": [],
   "source": [
    "# Separate regular season and playoffs data\n",
    "rs_df = data[data['Season_type'] == 'Regular Season']\n",
    "playoffs_df = data[data['Season_type'] == 'Playoffs']\n"
   ]
  },
  {
   "cell_type": "code",
   "execution_count": 14,
   "metadata": {},
   "outputs": [
    {
     "data": {
      "text/plain": [
       "Index(['Year', 'Season_type', 'PLAYER_ID', 'PLAYER', 'TEAM_ID', 'TEAM', 'GP',\n",
       "       'MIN', 'FGM', 'FGA', 'FG_PCT', 'FG3M', 'FG3A', 'FG3_PCT', 'FTM', 'FTA',\n",
       "       'FT_PCT', 'OREB', 'DREB', 'REB', 'AST', 'STL', 'BLK', 'TOV', 'PF',\n",
       "       'PTS', 'AST_TOV', 'STL_TOV', 'season_start_year'],\n",
       "      dtype='object')"
      ]
     },
     "execution_count": 14,
     "metadata": {},
     "output_type": "execute_result"
    }
   ],
   "source": [
    "# coloumns for oroginal data frame\n",
    "data.columns"
   ]
  },
  {
   "cell_type": "code",
   "execution_count": 15,
   "metadata": {},
   "outputs": [],
   "source": [
    "# List of coloumns where makes sense to total the values\n",
    "total_cols = ['GP', 'MIN','FGM','FGA','FG3M','FG3A','FTM','FTA',\n",
    "              'OREB','DREB','REB','AST','STL','BLK','TOV','PF','PTS']"
   ]
  },
  {
   "cell_type": "markdown",
   "metadata": {},
   "source": [
    "### Data Analysis: Which player stats are correlated with each other?"
   ]
  },
  {
   "cell_type": "code",
   "execution_count": 16,
   "metadata": {},
   "outputs": [
    {
     "data": {
      "text/html": [
       "<div>\n",
       "<style scoped>\n",
       "    .dataframe tbody tr th:only-of-type {\n",
       "        vertical-align: middle;\n",
       "    }\n",
       "\n",
       "    .dataframe tbody tr th {\n",
       "        vertical-align: top;\n",
       "    }\n",
       "\n",
       "    .dataframe thead th {\n",
       "        text-align: right;\n",
       "    }\n",
       "</style>\n",
       "<table border=\"1\" class=\"dataframe\">\n",
       "  <thead>\n",
       "    <tr style=\"text-align: right;\">\n",
       "      <th></th>\n",
       "      <th>PLAYER</th>\n",
       "      <th>PLAYER_ID</th>\n",
       "      <th>Year</th>\n",
       "      <th>GP</th>\n",
       "      <th>MIN</th>\n",
       "      <th>FGM</th>\n",
       "      <th>FGA</th>\n",
       "      <th>FG3M</th>\n",
       "      <th>FG3A</th>\n",
       "      <th>FTM</th>\n",
       "      <th>FTA</th>\n",
       "      <th>OREB</th>\n",
       "      <th>DREB</th>\n",
       "      <th>REB</th>\n",
       "      <th>AST</th>\n",
       "      <th>STL</th>\n",
       "      <th>BLK</th>\n",
       "      <th>TOV</th>\n",
       "      <th>PF</th>\n",
       "      <th>PTS</th>\n",
       "    </tr>\n",
       "  </thead>\n",
       "  <tbody>\n",
       "    <tr>\n",
       "      <th>3954</th>\n",
       "      <td>Ochai Agbaji</td>\n",
       "      <td>1630534</td>\n",
       "      <td>2022-23</td>\n",
       "      <td>59</td>\n",
       "      <td>1209</td>\n",
       "      <td>165</td>\n",
       "      <td>386</td>\n",
       "      <td>81</td>\n",
       "      <td>228</td>\n",
       "      <td>56</td>\n",
       "      <td>69</td>\n",
       "      <td>43</td>\n",
       "      <td>78</td>\n",
       "      <td>121</td>\n",
       "      <td>67</td>\n",
       "      <td>16</td>\n",
       "      <td>15</td>\n",
       "      <td>41</td>\n",
       "      <td>99</td>\n",
       "      <td>467</td>\n",
       "    </tr>\n",
       "    <tr>\n",
       "      <th>3538</th>\n",
       "      <td>Mason Plumlee</td>\n",
       "      <td>203486</td>\n",
       "      <td>2014-15</td>\n",
       "      <td>88</td>\n",
       "      <td>1792</td>\n",
       "      <td>284</td>\n",
       "      <td>495</td>\n",
       "      <td>0</td>\n",
       "      <td>3</td>\n",
       "      <td>161</td>\n",
       "      <td>328</td>\n",
       "      <td>177</td>\n",
       "      <td>343</td>\n",
       "      <td>520</td>\n",
       "      <td>76</td>\n",
       "      <td>69</td>\n",
       "      <td>65</td>\n",
       "      <td>109</td>\n",
       "      <td>217</td>\n",
       "      <td>729</td>\n",
       "    </tr>\n",
       "    <tr>\n",
       "      <th>3250</th>\n",
       "      <td>LeBron James</td>\n",
       "      <td>2544</td>\n",
       "      <td>2020-21</td>\n",
       "      <td>51</td>\n",
       "      <td>1728</td>\n",
       "      <td>476</td>\n",
       "      <td>937</td>\n",
       "      <td>122</td>\n",
       "      <td>333</td>\n",
       "      <td>192</td>\n",
       "      <td>278</td>\n",
       "      <td>36</td>\n",
       "      <td>353</td>\n",
       "      <td>389</td>\n",
       "      <td>398</td>\n",
       "      <td>57</td>\n",
       "      <td>27</td>\n",
       "      <td>193</td>\n",
       "      <td>77</td>\n",
       "      <td>1266</td>\n",
       "    </tr>\n",
       "    <tr>\n",
       "      <th>4386</th>\n",
       "      <td>Russell Westbrook</td>\n",
       "      <td>201566</td>\n",
       "      <td>2019-20</td>\n",
       "      <td>65</td>\n",
       "      <td>2311</td>\n",
       "      <td>663</td>\n",
       "      <td>1421</td>\n",
       "      <td>63</td>\n",
       "      <td>246</td>\n",
       "      <td>307</td>\n",
       "      <td>412</td>\n",
       "      <td>111</td>\n",
       "      <td>396</td>\n",
       "      <td>507</td>\n",
       "      <td>438</td>\n",
       "      <td>105</td>\n",
       "      <td>22</td>\n",
       "      <td>285</td>\n",
       "      <td>223</td>\n",
       "      <td>1696</td>\n",
       "    </tr>\n",
       "    <tr>\n",
       "      <th>1108</th>\n",
       "      <td>De'Anthony Melton</td>\n",
       "      <td>1629001</td>\n",
       "      <td>2019-20</td>\n",
       "      <td>60</td>\n",
       "      <td>1167</td>\n",
       "      <td>161</td>\n",
       "      <td>401</td>\n",
       "      <td>40</td>\n",
       "      <td>140</td>\n",
       "      <td>93</td>\n",
       "      <td>121</td>\n",
       "      <td>43</td>\n",
       "      <td>177</td>\n",
       "      <td>220</td>\n",
       "      <td>175</td>\n",
       "      <td>77</td>\n",
       "      <td>20</td>\n",
       "      <td>84</td>\n",
       "      <td>109</td>\n",
       "      <td>455</td>\n",
       "    </tr>\n",
       "  </tbody>\n",
       "</table>\n",
       "</div>"
      ],
      "text/plain": [
       "                 PLAYER  PLAYER_ID     Year  GP   MIN  FGM   FGA  FG3M  FG3A  \\\n",
       "3954       Ochai Agbaji    1630534  2022-23  59  1209  165   386    81   228   \n",
       "3538      Mason Plumlee     203486  2014-15  88  1792  284   495     0     3   \n",
       "3250       LeBron James       2544  2020-21  51  1728  476   937   122   333   \n",
       "4386  Russell Westbrook     201566  2019-20  65  2311  663  1421    63   246   \n",
       "1108  De'Anthony Melton    1629001  2019-20  60  1167  161   401    40   140   \n",
       "\n",
       "      FTM  FTA  OREB  DREB  REB  AST  STL  BLK  TOV   PF   PTS  \n",
       "3954   56   69    43    78  121   67   16   15   41   99   467  \n",
       "3538  161  328   177   343  520   76   69   65  109  217   729  \n",
       "3250  192  278    36   353  389  398   57   27  193   77  1266  \n",
       "4386  307  412   111   396  507  438  105   22  285  223  1696  \n",
       "1108   93  121    43   177  220  175   77   20   84  109   455  "
      ]
     },
     "execution_count": 16,
     "metadata": {},
     "output_type": "execute_result"
    }
   ],
   "source": [
    "# Group by player and year and sum the total columns\n",
    "data_per_min = data.groupby(['PLAYER', 'PLAYER_ID', 'Year'])[total_cols].sum().reset_index()\n",
    "\n",
    "data_per_min.sample(5)\n"
   ]
  },
  {
   "cell_type": "code",
   "execution_count": 17,
   "metadata": {},
   "outputs": [
    {
     "data": {
      "text/html": [
       "<div>\n",
       "<style scoped>\n",
       "    .dataframe tbody tr th:only-of-type {\n",
       "        vertical-align: middle;\n",
       "    }\n",
       "\n",
       "    .dataframe tbody tr th {\n",
       "        vertical-align: top;\n",
       "    }\n",
       "\n",
       "    .dataframe thead th {\n",
       "        text-align: right;\n",
       "    }\n",
       "</style>\n",
       "<table border=\"1\" class=\"dataframe\">\n",
       "  <thead>\n",
       "    <tr style=\"text-align: right;\">\n",
       "      <th></th>\n",
       "      <th>MIN</th>\n",
       "      <th>FGM</th>\n",
       "      <th>FGA</th>\n",
       "      <th>FG3M</th>\n",
       "      <th>FG3A</th>\n",
       "      <th>FTM</th>\n",
       "      <th>FTA</th>\n",
       "      <th>OREB</th>\n",
       "      <th>DREB</th>\n",
       "      <th>REB</th>\n",
       "      <th>AST</th>\n",
       "      <th>STL</th>\n",
       "      <th>BLK</th>\n",
       "      <th>TOV</th>\n",
       "      <th>PF</th>\n",
       "      <th>PTS</th>\n",
       "      <th>FG%</th>\n",
       "      <th>3PT%</th>\n",
       "      <th>FT%</th>\n",
       "      <th>FG3A%</th>\n",
       "      <th>PTS/FGA</th>\n",
       "      <th>FG3M/FGM</th>\n",
       "      <th>FTA/FGA</th>\n",
       "      <th>TRU%</th>\n",
       "      <th>AST_TOV</th>\n",
       "    </tr>\n",
       "  </thead>\n",
       "  <tbody>\n",
       "    <tr>\n",
       "      <th>4132</th>\n",
       "      <td>200</td>\n",
       "      <td>0.155000</td>\n",
       "      <td>0.320000</td>\n",
       "      <td>0.035000</td>\n",
       "      <td>0.080000</td>\n",
       "      <td>0.055000</td>\n",
       "      <td>0.100000</td>\n",
       "      <td>0.045000</td>\n",
       "      <td>0.160000</td>\n",
       "      <td>0.205000</td>\n",
       "      <td>0.060000</td>\n",
       "      <td>0.010000</td>\n",
       "      <td>0.060000</td>\n",
       "      <td>0.045000</td>\n",
       "      <td>0.080000</td>\n",
       "      <td>0.400000</td>\n",
       "      <td>0.484375</td>\n",
       "      <td>0.437500</td>\n",
       "      <td>0.550000</td>\n",
       "      <td>0.250000</td>\n",
       "      <td>1.250000</td>\n",
       "      <td>0.225806</td>\n",
       "      <td>0.312500</td>\n",
       "      <td>0.544218</td>\n",
       "      <td>1.333333</td>\n",
       "    </tr>\n",
       "    <tr>\n",
       "      <th>3945</th>\n",
       "      <td>2459</td>\n",
       "      <td>0.132574</td>\n",
       "      <td>0.265962</td>\n",
       "      <td>0.043107</td>\n",
       "      <td>0.109394</td>\n",
       "      <td>0.036600</td>\n",
       "      <td>0.052867</td>\n",
       "      <td>0.043107</td>\n",
       "      <td>0.135828</td>\n",
       "      <td>0.178935</td>\n",
       "      <td>0.049207</td>\n",
       "      <td>0.043514</td>\n",
       "      <td>0.023587</td>\n",
       "      <td>0.038634</td>\n",
       "      <td>0.078894</td>\n",
       "      <td>0.344856</td>\n",
       "      <td>0.498471</td>\n",
       "      <td>0.394052</td>\n",
       "      <td>0.692308</td>\n",
       "      <td>0.411315</td>\n",
       "      <td>1.296636</td>\n",
       "      <td>0.325153</td>\n",
       "      <td>0.198777</td>\n",
       "      <td>0.592386</td>\n",
       "      <td>1.273684</td>\n",
       "    </tr>\n",
       "    <tr>\n",
       "      <th>3244</th>\n",
       "      <td>3337</td>\n",
       "      <td>0.255019</td>\n",
       "      <td>0.546299</td>\n",
       "      <td>0.043452</td>\n",
       "      <td>0.134552</td>\n",
       "      <td>0.148936</td>\n",
       "      <td>0.208271</td>\n",
       "      <td>0.026371</td>\n",
       "      <td>0.166017</td>\n",
       "      <td>0.192388</td>\n",
       "      <td>0.203776</td>\n",
       "      <td>0.042553</td>\n",
       "      <td>0.020977</td>\n",
       "      <td>0.106083</td>\n",
       "      <td>0.057836</td>\n",
       "      <td>0.702427</td>\n",
       "      <td>0.466813</td>\n",
       "      <td>0.322940</td>\n",
       "      <td>0.715108</td>\n",
       "      <td>0.246297</td>\n",
       "      <td>1.285793</td>\n",
       "      <td>0.170388</td>\n",
       "      <td>0.381240</td>\n",
       "      <td>0.544325</td>\n",
       "      <td>1.920904</td>\n",
       "    </tr>\n",
       "    <tr>\n",
       "      <th>3835</th>\n",
       "      <td>1224</td>\n",
       "      <td>0.156863</td>\n",
       "      <td>0.233660</td>\n",
       "      <td>0.000817</td>\n",
       "      <td>0.003268</td>\n",
       "      <td>0.069444</td>\n",
       "      <td>0.094771</td>\n",
       "      <td>0.078431</td>\n",
       "      <td>0.190359</td>\n",
       "      <td>0.268791</td>\n",
       "      <td>0.049020</td>\n",
       "      <td>0.049837</td>\n",
       "      <td>0.078431</td>\n",
       "      <td>0.055556</td>\n",
       "      <td>0.147876</td>\n",
       "      <td>0.383987</td>\n",
       "      <td>0.671329</td>\n",
       "      <td>0.250000</td>\n",
       "      <td>0.732759</td>\n",
       "      <td>0.013986</td>\n",
       "      <td>1.643357</td>\n",
       "      <td>0.005208</td>\n",
       "      <td>0.405594</td>\n",
       "      <td>0.688948</td>\n",
       "      <td>0.882353</td>\n",
       "    </tr>\n",
       "    <tr>\n",
       "      <th>2931</th>\n",
       "      <td>948</td>\n",
       "      <td>0.157173</td>\n",
       "      <td>0.390295</td>\n",
       "      <td>0.077004</td>\n",
       "      <td>0.209916</td>\n",
       "      <td>0.063291</td>\n",
       "      <td>0.074895</td>\n",
       "      <td>0.014768</td>\n",
       "      <td>0.102321</td>\n",
       "      <td>0.117089</td>\n",
       "      <td>0.138186</td>\n",
       "      <td>0.027426</td>\n",
       "      <td>0.007384</td>\n",
       "      <td>0.050633</td>\n",
       "      <td>0.039030</td>\n",
       "      <td>0.454641</td>\n",
       "      <td>0.402703</td>\n",
       "      <td>0.366834</td>\n",
       "      <td>0.845070</td>\n",
       "      <td>0.537838</td>\n",
       "      <td>1.164865</td>\n",
       "      <td>0.489933</td>\n",
       "      <td>0.191892</td>\n",
       "      <td>0.533779</td>\n",
       "      <td>2.729167</td>\n",
       "    </tr>\n",
       "  </tbody>\n",
       "</table>\n",
       "</div>"
      ],
      "text/plain": [
       "       MIN       FGM       FGA      FG3M      FG3A       FTM       FTA  \\\n",
       "4132   200  0.155000  0.320000  0.035000  0.080000  0.055000  0.100000   \n",
       "3945  2459  0.132574  0.265962  0.043107  0.109394  0.036600  0.052867   \n",
       "3244  3337  0.255019  0.546299  0.043452  0.134552  0.148936  0.208271   \n",
       "3835  1224  0.156863  0.233660  0.000817  0.003268  0.069444  0.094771   \n",
       "2931   948  0.157173  0.390295  0.077004  0.209916  0.063291  0.074895   \n",
       "\n",
       "          OREB      DREB       REB       AST       STL       BLK       TOV  \\\n",
       "4132  0.045000  0.160000  0.205000  0.060000  0.010000  0.060000  0.045000   \n",
       "3945  0.043107  0.135828  0.178935  0.049207  0.043514  0.023587  0.038634   \n",
       "3244  0.026371  0.166017  0.192388  0.203776  0.042553  0.020977  0.106083   \n",
       "3835  0.078431  0.190359  0.268791  0.049020  0.049837  0.078431  0.055556   \n",
       "2931  0.014768  0.102321  0.117089  0.138186  0.027426  0.007384  0.050633   \n",
       "\n",
       "            PF       PTS       FG%      3PT%       FT%     FG3A%   PTS/FGA  \\\n",
       "4132  0.080000  0.400000  0.484375  0.437500  0.550000  0.250000  1.250000   \n",
       "3945  0.078894  0.344856  0.498471  0.394052  0.692308  0.411315  1.296636   \n",
       "3244  0.057836  0.702427  0.466813  0.322940  0.715108  0.246297  1.285793   \n",
       "3835  0.147876  0.383987  0.671329  0.250000  0.732759  0.013986  1.643357   \n",
       "2931  0.039030  0.454641  0.402703  0.366834  0.845070  0.537838  1.164865   \n",
       "\n",
       "      FG3M/FGM   FTA/FGA      TRU%   AST_TOV  \n",
       "4132  0.225806  0.312500  0.544218  1.333333  \n",
       "3945  0.325153  0.198777  0.592386  1.273684  \n",
       "3244  0.170388  0.381240  0.544325  1.920904  \n",
       "3835  0.005208  0.405594  0.688948  0.882353  \n",
       "2931  0.489933  0.191892  0.533779  2.729167  "
      ]
     },
     "execution_count": 17,
     "metadata": {},
     "output_type": "execute_result"
    }
   ],
   "source": [
    "# Transition to per minute stats\n",
    "for col in data_per_min.columns[5:]:\n",
    "    data_per_min[col] = data_per_min[col] / data_per_min['MIN']\n",
    "\n",
    "# Add new indicators\n",
    "data_per_min['FG%'] = data_per_min['FGM']/data_per_min['FGA']\n",
    "data_per_min['3PT%'] = data_per_min['FG3M']/data_per_min['FG3A']\n",
    "data_per_min['FT%'] = data_per_min['FTM']/data_per_min['FTA']\n",
    "data_per_min['FG3A%'] = data_per_min['FG3A']/data_per_min['FGA']\n",
    "data_per_min['PTS/FGA'] = data_per_min['PTS']/data_per_min['FGA']\n",
    "data_per_min['FG3M/FGM'] = data_per_min['FG3M']/data_per_min['FGM']\n",
    "data_per_min['FTA/FGA'] = data_per_min['FTA']/data_per_min['FGA']\n",
    "data_per_min['TRU%'] = 0.5*data_per_min['PTS']/(data_per_min['FGA']+0.475*data_per_min['FTA'])\n",
    "data_per_min['AST_TOV'] = data_per_min['AST']/data_per_min['TOV']\n",
    "\n",
    "# Add minutes filter\n",
    "data_per_min = data_per_min[data_per_min['MIN'] > 50]\n",
    "\n",
    "# for correlation analysis: drop GP (doesn't make sense), drop any categorical columns (player, player_id, year)\n",
    "data_per_min.drop(columns=['GP', 'PLAYER', 'PLAYER_ID', 'Year'], inplace=True)\n",
    "\n",
    "data_per_min.sample(5)"
   ]
  },
  {
   "cell_type": "code",
   "execution_count": 18,
   "metadata": {},
   "outputs": [
    {
     "data": {
      "text/html": [
       "<div>\n",
       "<style scoped>\n",
       "    .dataframe tbody tr th:only-of-type {\n",
       "        vertical-align: middle;\n",
       "    }\n",
       "\n",
       "    .dataframe tbody tr th {\n",
       "        vertical-align: top;\n",
       "    }\n",
       "\n",
       "    .dataframe thead th {\n",
       "        text-align: right;\n",
       "    }\n",
       "</style>\n",
       "<table border=\"1\" class=\"dataframe\">\n",
       "  <thead>\n",
       "    <tr style=\"text-align: right;\">\n",
       "      <th></th>\n",
       "      <th>MIN</th>\n",
       "      <th>FGM</th>\n",
       "      <th>FGA</th>\n",
       "      <th>FG3M</th>\n",
       "      <th>FG3A</th>\n",
       "      <th>FTM</th>\n",
       "      <th>FTA</th>\n",
       "      <th>OREB</th>\n",
       "      <th>DREB</th>\n",
       "      <th>REB</th>\n",
       "      <th>AST</th>\n",
       "      <th>STL</th>\n",
       "      <th>BLK</th>\n",
       "      <th>TOV</th>\n",
       "      <th>PF</th>\n",
       "      <th>PTS</th>\n",
       "      <th>FG%</th>\n",
       "      <th>3PT%</th>\n",
       "      <th>FT%</th>\n",
       "      <th>FG3A%</th>\n",
       "      <th>PTS/FGA</th>\n",
       "      <th>FG3M/FGM</th>\n",
       "      <th>FTA/FGA</th>\n",
       "      <th>TRU%</th>\n",
       "      <th>AST_TOV</th>\n",
       "    </tr>\n",
       "  </thead>\n",
       "  <tbody>\n",
       "    <tr>\n",
       "      <th>MIN</th>\n",
       "      <td>1.000000</td>\n",
       "      <td>0.407087</td>\n",
       "      <td>0.343630</td>\n",
       "      <td>0.178127</td>\n",
       "      <td>0.103257</td>\n",
       "      <td>0.322161</td>\n",
       "      <td>0.261340</td>\n",
       "      <td>-0.119414</td>\n",
       "      <td>0.053450</td>\n",
       "      <td>-0.015350</td>\n",
       "      <td>0.218918</td>\n",
       "      <td>0.032569</td>\n",
       "      <td>-0.055551</td>\n",
       "      <td>0.150451</td>\n",
       "      <td>-0.357046</td>\n",
       "      <td>0.431262</td>\n",
       "      <td>0.174159</td>\n",
       "      <td>0.169111</td>\n",
       "      <td>0.230071</td>\n",
       "      <td>-0.033162</td>\n",
       "      <td>0.232615</td>\n",
       "      <td>-0.007372</td>\n",
       "      <td>0.029527</td>\n",
       "      <td>0.285060</td>\n",
       "      <td>0.020729</td>\n",
       "    </tr>\n",
       "    <tr>\n",
       "      <th>FGM</th>\n",
       "      <td>0.407087</td>\n",
       "      <td>1.000000</td>\n",
       "      <td>0.870539</td>\n",
       "      <td>0.191760</td>\n",
       "      <td>0.134698</td>\n",
       "      <td>0.631948</td>\n",
       "      <td>0.596654</td>\n",
       "      <td>0.080472</td>\n",
       "      <td>0.236479</td>\n",
       "      <td>0.191296</td>\n",
       "      <td>0.249638</td>\n",
       "      <td>-0.030116</td>\n",
       "      <td>0.080294</td>\n",
       "      <td>0.434114</td>\n",
       "      <td>-0.181884</td>\n",
       "      <td>0.958685</td>\n",
       "      <td>0.404405</td>\n",
       "      <td>0.124870</td>\n",
       "      <td>0.197091</td>\n",
       "      <td>-0.263421</td>\n",
       "      <td>0.362172</td>\n",
       "      <td>-0.252086</td>\n",
       "      <td>0.084657</td>\n",
       "      <td>0.415190</td>\n",
       "      <td>-0.112628</td>\n",
       "    </tr>\n",
       "    <tr>\n",
       "      <th>FGA</th>\n",
       "      <td>0.343630</td>\n",
       "      <td>0.870539</td>\n",
       "      <td>1.000000</td>\n",
       "      <td>0.425708</td>\n",
       "      <td>0.446272</td>\n",
       "      <td>0.571423</td>\n",
       "      <td>0.492278</td>\n",
       "      <td>-0.218719</td>\n",
       "      <td>-0.008945</td>\n",
       "      <td>-0.099064</td>\n",
       "      <td>0.349353</td>\n",
       "      <td>0.015506</td>\n",
       "      <td>-0.162664</td>\n",
       "      <td>0.448649</td>\n",
       "      <td>-0.316682</td>\n",
       "      <td>0.897297</td>\n",
       "      <td>-0.073205</td>\n",
       "      <td>0.167745</td>\n",
       "      <td>0.299447</td>\n",
       "      <td>0.022769</td>\n",
       "      <td>-0.024864</td>\n",
       "      <td>0.013706</td>\n",
       "      <td>-0.089920</td>\n",
       "      <td>0.023437</td>\n",
       "      <td>-0.005786</td>\n",
       "    </tr>\n",
       "    <tr>\n",
       "      <th>FG3M</th>\n",
       "      <td>0.178127</td>\n",
       "      <td>0.191760</td>\n",
       "      <td>0.425708</td>\n",
       "      <td>1.000000</td>\n",
       "      <td>0.953799</td>\n",
       "      <td>-0.013062</td>\n",
       "      <td>-0.149965</td>\n",
       "      <td>-0.611848</td>\n",
       "      <td>-0.394101</td>\n",
       "      <td>-0.522208</td>\n",
       "      <td>0.139186</td>\n",
       "      <td>-0.029798</td>\n",
       "      <td>-0.430168</td>\n",
       "      <td>-0.069116</td>\n",
       "      <td>-0.402573</td>\n",
       "      <td>0.354258</td>\n",
       "      <td>-0.377341</td>\n",
       "      <td>0.575656</td>\n",
       "      <td>0.399155</td>\n",
       "      <td>0.823509</td>\n",
       "      <td>-0.092068</td>\n",
       "      <td>0.845536</td>\n",
       "      <td>-0.393920</td>\n",
       "      <td>0.110331</td>\n",
       "      <td>0.201612</td>\n",
       "    </tr>\n",
       "    <tr>\n",
       "      <th>FG3A</th>\n",
       "      <td>0.103257</td>\n",
       "      <td>0.134698</td>\n",
       "      <td>0.446272</td>\n",
       "      <td>0.953799</td>\n",
       "      <td>1.000000</td>\n",
       "      <td>-0.029426</td>\n",
       "      <td>-0.164909</td>\n",
       "      <td>-0.647021</td>\n",
       "      <td>-0.429012</td>\n",
       "      <td>-0.560366</td>\n",
       "      <td>0.155212</td>\n",
       "      <td>-0.008070</td>\n",
       "      <td>-0.457898</td>\n",
       "      <td>-0.048384</td>\n",
       "      <td>-0.397351</td>\n",
       "      <td>0.297682</td>\n",
       "      <td>-0.520249</td>\n",
       "      <td>0.441773</td>\n",
       "      <td>0.380460</td>\n",
       "      <td>0.868370</td>\n",
       "      <td>-0.250147</td>\n",
       "      <td>0.831423</td>\n",
       "      <td>-0.422801</td>\n",
       "      <td>-0.078580</td>\n",
       "      <td>0.214002</td>\n",
       "    </tr>\n",
       "    <tr>\n",
       "      <th>FTM</th>\n",
       "      <td>0.322161</td>\n",
       "      <td>0.631948</td>\n",
       "      <td>0.571423</td>\n",
       "      <td>-0.013062</td>\n",
       "      <td>-0.029426</td>\n",
       "      <td>1.000000</td>\n",
       "      <td>0.955754</td>\n",
       "      <td>0.094089</td>\n",
       "      <td>0.213189</td>\n",
       "      <td>0.181628</td>\n",
       "      <td>0.267302</td>\n",
       "      <td>0.023139</td>\n",
       "      <td>0.083714</td>\n",
       "      <td>0.469862</td>\n",
       "      <td>-0.077240</td>\n",
       "      <td>0.753976</td>\n",
       "      <td>0.206827</td>\n",
       "      <td>0.010468</td>\n",
       "      <td>0.271189</td>\n",
       "      <td>-0.303953</td>\n",
       "      <td>0.485675</td>\n",
       "      <td>-0.297400</td>\n",
       "      <td>0.609791</td>\n",
       "      <td>0.279679</td>\n",
       "      <td>-0.109309</td>\n",
       "    </tr>\n",
       "    <tr>\n",
       "      <th>FTA</th>\n",
       "      <td>0.261340</td>\n",
       "      <td>0.596654</td>\n",
       "      <td>0.492278</td>\n",
       "      <td>-0.149965</td>\n",
       "      <td>-0.164909</td>\n",
       "      <td>0.955754</td>\n",
       "      <td>1.000000</td>\n",
       "      <td>0.235288</td>\n",
       "      <td>0.310255</td>\n",
       "      <td>0.306202</td>\n",
       "      <td>0.199970</td>\n",
       "      <td>0.023219</td>\n",
       "      <td>0.189075</td>\n",
       "      <td>0.473771</td>\n",
       "      <td>0.020817</td>\n",
       "      <td>0.685278</td>\n",
       "      <td>0.284775</td>\n",
       "      <td>-0.080297</td>\n",
       "      <td>0.029786</td>\n",
       "      <td>-0.421937</td>\n",
       "      <td>0.507210</td>\n",
       "      <td>-0.410105</td>\n",
       "      <td>0.715877</td>\n",
       "      <td>0.250066</td>\n",
       "      <td>-0.176569</td>\n",
       "    </tr>\n",
       "    <tr>\n",
       "      <th>OREB</th>\n",
       "      <td>-0.119414</td>\n",
       "      <td>0.080472</td>\n",
       "      <td>-0.218719</td>\n",
       "      <td>-0.611848</td>\n",
       "      <td>-0.647021</td>\n",
       "      <td>0.094089</td>\n",
       "      <td>0.235288</td>\n",
       "      <td>1.000000</td>\n",
       "      <td>0.668057</td>\n",
       "      <td>0.869391</td>\n",
       "      <td>-0.354227</td>\n",
       "      <td>-0.103263</td>\n",
       "      <td>0.603079</td>\n",
       "      <td>0.006359</td>\n",
       "      <td>0.486929</td>\n",
       "      <td>-0.046888</td>\n",
       "      <td>0.571435</td>\n",
       "      <td>-0.397724</td>\n",
       "      <td>-0.369942</td>\n",
       "      <td>-0.646748</td>\n",
       "      <td>0.363898</td>\n",
       "      <td>-0.614560</td>\n",
       "      <td>0.389839</td>\n",
       "      <td>0.238987</td>\n",
       "      <td>-0.380512</td>\n",
       "    </tr>\n",
       "    <tr>\n",
       "      <th>DREB</th>\n",
       "      <td>0.053450</td>\n",
       "      <td>0.236479</td>\n",
       "      <td>-0.008945</td>\n",
       "      <td>-0.394101</td>\n",
       "      <td>-0.429012</td>\n",
       "      <td>0.213189</td>\n",
       "      <td>0.310255</td>\n",
       "      <td>0.668057</td>\n",
       "      <td>1.000000</td>\n",
       "      <td>0.948486</td>\n",
       "      <td>-0.203434</td>\n",
       "      <td>-0.122616</td>\n",
       "      <td>0.538503</td>\n",
       "      <td>0.148571</td>\n",
       "      <td>0.326665</td>\n",
       "      <td>0.149697</td>\n",
       "      <td>0.481548</td>\n",
       "      <td>-0.229456</td>\n",
       "      <td>-0.238100</td>\n",
       "      <td>-0.483392</td>\n",
       "      <td>0.356177</td>\n",
       "      <td>-0.461108</td>\n",
       "      <td>0.326398</td>\n",
       "      <td>0.264691</td>\n",
       "      <td>-0.334624</td>\n",
       "    </tr>\n",
       "    <tr>\n",
       "      <th>REB</th>\n",
       "      <td>-0.015350</td>\n",
       "      <td>0.191296</td>\n",
       "      <td>-0.099064</td>\n",
       "      <td>-0.522208</td>\n",
       "      <td>-0.560366</td>\n",
       "      <td>0.181628</td>\n",
       "      <td>0.306202</td>\n",
       "      <td>0.869391</td>\n",
       "      <td>0.948486</td>\n",
       "      <td>1.000000</td>\n",
       "      <td>-0.285909</td>\n",
       "      <td>-0.125389</td>\n",
       "      <td>0.614364</td>\n",
       "      <td>0.101366</td>\n",
       "      <td>0.424240</td>\n",
       "      <td>0.079443</td>\n",
       "      <td>0.563070</td>\n",
       "      <td>-0.320159</td>\n",
       "      <td>-0.315465</td>\n",
       "      <td>-0.596361</td>\n",
       "      <td>0.391455</td>\n",
       "      <td>-0.567859</td>\n",
       "      <td>0.382725</td>\n",
       "      <td>0.277521</td>\n",
       "      <td>-0.383750</td>\n",
       "    </tr>\n",
       "    <tr>\n",
       "      <th>AST</th>\n",
       "      <td>0.218918</td>\n",
       "      <td>0.249638</td>\n",
       "      <td>0.349353</td>\n",
       "      <td>0.139186</td>\n",
       "      <td>0.155212</td>\n",
       "      <td>0.267302</td>\n",
       "      <td>0.199970</td>\n",
       "      <td>-0.354227</td>\n",
       "      <td>-0.203434</td>\n",
       "      <td>-0.285909</td>\n",
       "      <td>1.000000</td>\n",
       "      <td>0.282545</td>\n",
       "      <td>-0.304061</td>\n",
       "      <td>0.575880</td>\n",
       "      <td>-0.291242</td>\n",
       "      <td>0.291596</td>\n",
       "      <td>-0.143795</td>\n",
       "      <td>0.086113</td>\n",
       "      <td>0.195765</td>\n",
       "      <td>0.019039</td>\n",
       "      <td>-0.085653</td>\n",
       "      <td>0.004633</td>\n",
       "      <td>-0.035526</td>\n",
       "      <td>-0.087770</td>\n",
       "      <td>0.565670</td>\n",
       "    </tr>\n",
       "    <tr>\n",
       "      <th>STL</th>\n",
       "      <td>0.032569</td>\n",
       "      <td>-0.030116</td>\n",
       "      <td>0.015506</td>\n",
       "      <td>-0.029798</td>\n",
       "      <td>-0.008070</td>\n",
       "      <td>0.023139</td>\n",
       "      <td>0.023219</td>\n",
       "      <td>-0.103263</td>\n",
       "      <td>-0.122616</td>\n",
       "      <td>-0.125389</td>\n",
       "      <td>0.282545</td>\n",
       "      <td>1.000000</td>\n",
       "      <td>-0.052130</td>\n",
       "      <td>0.163157</td>\n",
       "      <td>-0.008181</td>\n",
       "      <td>-0.021655</td>\n",
       "      <td>-0.100776</td>\n",
       "      <td>-0.024651</td>\n",
       "      <td>-0.030099</td>\n",
       "      <td>-0.003796</td>\n",
       "      <td>-0.103897</td>\n",
       "      <td>-0.018071</td>\n",
       "      <td>-0.019299</td>\n",
       "      <td>-0.117243</td>\n",
       "      <td>0.175350</td>\n",
       "    </tr>\n",
       "    <tr>\n",
       "      <th>BLK</th>\n",
       "      <td>-0.055551</td>\n",
       "      <td>0.080294</td>\n",
       "      <td>-0.162664</td>\n",
       "      <td>-0.430168</td>\n",
       "      <td>-0.457898</td>\n",
       "      <td>0.083714</td>\n",
       "      <td>0.189075</td>\n",
       "      <td>0.603079</td>\n",
       "      <td>0.538503</td>\n",
       "      <td>0.614364</td>\n",
       "      <td>-0.304061</td>\n",
       "      <td>-0.052130</td>\n",
       "      <td>1.000000</td>\n",
       "      <td>0.002294</td>\n",
       "      <td>0.425949</td>\n",
       "      <td>-0.010459</td>\n",
       "      <td>0.474059</td>\n",
       "      <td>-0.261684</td>\n",
       "      <td>-0.290133</td>\n",
       "      <td>-0.460800</td>\n",
       "      <td>0.322848</td>\n",
       "      <td>-0.440915</td>\n",
       "      <td>0.295305</td>\n",
       "      <td>0.240712</td>\n",
       "      <td>-0.319606</td>\n",
       "    </tr>\n",
       "    <tr>\n",
       "      <th>TOV</th>\n",
       "      <td>0.150451</td>\n",
       "      <td>0.434114</td>\n",
       "      <td>0.448649</td>\n",
       "      <td>-0.069116</td>\n",
       "      <td>-0.048384</td>\n",
       "      <td>0.469862</td>\n",
       "      <td>0.473771</td>\n",
       "      <td>0.006359</td>\n",
       "      <td>0.148571</td>\n",
       "      <td>0.101366</td>\n",
       "      <td>0.575880</td>\n",
       "      <td>0.163157</td>\n",
       "      <td>0.002294</td>\n",
       "      <td>1.000000</td>\n",
       "      <td>0.056228</td>\n",
       "      <td>0.440703</td>\n",
       "      <td>0.057305</td>\n",
       "      <td>-0.069377</td>\n",
       "      <td>0.038617</td>\n",
       "      <td>-0.273585</td>\n",
       "      <td>0.064760</td>\n",
       "      <td>-0.280512</td>\n",
       "      <td>0.200773</td>\n",
       "      <td>-0.028213</td>\n",
       "      <td>-0.186471</td>\n",
       "    </tr>\n",
       "    <tr>\n",
       "      <th>PF</th>\n",
       "      <td>-0.357046</td>\n",
       "      <td>-0.181884</td>\n",
       "      <td>-0.316682</td>\n",
       "      <td>-0.402573</td>\n",
       "      <td>-0.397351</td>\n",
       "      <td>-0.077240</td>\n",
       "      <td>0.020817</td>\n",
       "      <td>0.486929</td>\n",
       "      <td>0.326665</td>\n",
       "      <td>0.424240</td>\n",
       "      <td>-0.291242</td>\n",
       "      <td>-0.008181</td>\n",
       "      <td>0.425949</td>\n",
       "      <td>0.056228</td>\n",
       "      <td>1.000000</td>\n",
       "      <td>-0.243426</td>\n",
       "      <td>0.223645</td>\n",
       "      <td>-0.269633</td>\n",
       "      <td>-0.281033</td>\n",
       "      <td>-0.319712</td>\n",
       "      <td>0.128304</td>\n",
       "      <td>-0.318129</td>\n",
       "      <td>0.243105</td>\n",
       "      <td>0.023474</td>\n",
       "      <td>-0.322230</td>\n",
       "    </tr>\n",
       "    <tr>\n",
       "      <th>PTS</th>\n",
       "      <td>0.431262</td>\n",
       "      <td>0.958685</td>\n",
       "      <td>0.897297</td>\n",
       "      <td>0.354258</td>\n",
       "      <td>0.297682</td>\n",
       "      <td>0.753976</td>\n",
       "      <td>0.685278</td>\n",
       "      <td>-0.046888</td>\n",
       "      <td>0.149697</td>\n",
       "      <td>0.079443</td>\n",
       "      <td>0.291596</td>\n",
       "      <td>-0.021655</td>\n",
       "      <td>-0.010459</td>\n",
       "      <td>0.440703</td>\n",
       "      <td>-0.243426</td>\n",
       "      <td>1.000000</td>\n",
       "      <td>0.274093</td>\n",
       "      <td>0.215612</td>\n",
       "      <td>0.311393</td>\n",
       "      <td>-0.102529</td>\n",
       "      <td>0.387836</td>\n",
       "      <td>-0.087513</td>\n",
       "      <td>0.156022</td>\n",
       "      <td>0.409845</td>\n",
       "      <td>-0.070553</td>\n",
       "    </tr>\n",
       "    <tr>\n",
       "      <th>FG%</th>\n",
       "      <td>0.174159</td>\n",
       "      <td>0.404405</td>\n",
       "      <td>-0.073205</td>\n",
       "      <td>-0.377341</td>\n",
       "      <td>-0.520249</td>\n",
       "      <td>0.206827</td>\n",
       "      <td>0.284775</td>\n",
       "      <td>0.571435</td>\n",
       "      <td>0.481548</td>\n",
       "      <td>0.563070</td>\n",
       "      <td>-0.143795</td>\n",
       "      <td>-0.100776</td>\n",
       "      <td>0.474059</td>\n",
       "      <td>0.057305</td>\n",
       "      <td>0.223645</td>\n",
       "      <td>0.274093</td>\n",
       "      <td>1.000000</td>\n",
       "      <td>-0.067570</td>\n",
       "      <td>-0.172063</td>\n",
       "      <td>-0.594773</td>\n",
       "      <td>0.808160</td>\n",
       "      <td>-0.554097</td>\n",
       "      <td>0.345604</td>\n",
       "      <td>0.825703</td>\n",
       "      <td>-0.236062</td>\n",
       "    </tr>\n",
       "    <tr>\n",
       "      <th>3PT%</th>\n",
       "      <td>0.169111</td>\n",
       "      <td>0.124870</td>\n",
       "      <td>0.167745</td>\n",
       "      <td>0.575656</td>\n",
       "      <td>0.441773</td>\n",
       "      <td>0.010468</td>\n",
       "      <td>-0.080297</td>\n",
       "      <td>-0.397724</td>\n",
       "      <td>-0.229456</td>\n",
       "      <td>-0.320159</td>\n",
       "      <td>0.086113</td>\n",
       "      <td>-0.024651</td>\n",
       "      <td>-0.261684</td>\n",
       "      <td>-0.069377</td>\n",
       "      <td>-0.269633</td>\n",
       "      <td>0.215612</td>\n",
       "      <td>-0.067570</td>\n",
       "      <td>1.000000</td>\n",
       "      <td>0.278175</td>\n",
       "      <td>0.430163</td>\n",
       "      <td>0.142576</td>\n",
       "      <td>0.508457</td>\n",
       "      <td>-0.238726</td>\n",
       "      <td>0.285932</td>\n",
       "      <td>0.124588</td>\n",
       "    </tr>\n",
       "    <tr>\n",
       "      <th>FT%</th>\n",
       "      <td>0.230071</td>\n",
       "      <td>0.197091</td>\n",
       "      <td>0.299447</td>\n",
       "      <td>0.399155</td>\n",
       "      <td>0.380460</td>\n",
       "      <td>0.271189</td>\n",
       "      <td>0.029786</td>\n",
       "      <td>-0.369942</td>\n",
       "      <td>-0.238100</td>\n",
       "      <td>-0.315465</td>\n",
       "      <td>0.195765</td>\n",
       "      <td>-0.030099</td>\n",
       "      <td>-0.290133</td>\n",
       "      <td>0.038617</td>\n",
       "      <td>-0.281033</td>\n",
       "      <td>0.311393</td>\n",
       "      <td>-0.172063</td>\n",
       "      <td>0.278175</td>\n",
       "      <td>1.000000</td>\n",
       "      <td>0.297124</td>\n",
       "      <td>0.067933</td>\n",
       "      <td>0.298383</td>\n",
       "      <td>-0.160444</td>\n",
       "      <td>0.179776</td>\n",
       "      <td>0.165247</td>\n",
       "    </tr>\n",
       "    <tr>\n",
       "      <th>FG3A%</th>\n",
       "      <td>-0.033162</td>\n",
       "      <td>-0.263421</td>\n",
       "      <td>0.022769</td>\n",
       "      <td>0.823509</td>\n",
       "      <td>0.868370</td>\n",
       "      <td>-0.303953</td>\n",
       "      <td>-0.421937</td>\n",
       "      <td>-0.646748</td>\n",
       "      <td>-0.483392</td>\n",
       "      <td>-0.596361</td>\n",
       "      <td>0.019039</td>\n",
       "      <td>-0.003796</td>\n",
       "      <td>-0.460800</td>\n",
       "      <td>-0.273585</td>\n",
       "      <td>-0.319712</td>\n",
       "      <td>-0.102529</td>\n",
       "      <td>-0.594773</td>\n",
       "      <td>0.430163</td>\n",
       "      <td>0.297124</td>\n",
       "      <td>1.000000</td>\n",
       "      <td>-0.318283</td>\n",
       "      <td>0.958595</td>\n",
       "      <td>-0.484389</td>\n",
       "      <td>-0.130948</td>\n",
       "      <td>0.270838</td>\n",
       "    </tr>\n",
       "    <tr>\n",
       "      <th>PTS/FGA</th>\n",
       "      <td>0.232615</td>\n",
       "      <td>0.362172</td>\n",
       "      <td>-0.024864</td>\n",
       "      <td>-0.092068</td>\n",
       "      <td>-0.250147</td>\n",
       "      <td>0.485675</td>\n",
       "      <td>0.507210</td>\n",
       "      <td>0.363898</td>\n",
       "      <td>0.356177</td>\n",
       "      <td>0.391455</td>\n",
       "      <td>-0.085653</td>\n",
       "      <td>-0.103897</td>\n",
       "      <td>0.322848</td>\n",
       "      <td>0.064760</td>\n",
       "      <td>0.128304</td>\n",
       "      <td>0.387836</td>\n",
       "      <td>0.808160</td>\n",
       "      <td>0.142576</td>\n",
       "      <td>0.067933</td>\n",
       "      <td>-0.318283</td>\n",
       "      <td>1.000000</td>\n",
       "      <td>-0.264251</td>\n",
       "      <td>0.644590</td>\n",
       "      <td>0.897317</td>\n",
       "      <td>-0.174381</td>\n",
       "    </tr>\n",
       "    <tr>\n",
       "      <th>FG3M/FGM</th>\n",
       "      <td>-0.007372</td>\n",
       "      <td>-0.252086</td>\n",
       "      <td>0.013706</td>\n",
       "      <td>0.845536</td>\n",
       "      <td>0.831423</td>\n",
       "      <td>-0.297400</td>\n",
       "      <td>-0.410105</td>\n",
       "      <td>-0.614560</td>\n",
       "      <td>-0.461108</td>\n",
       "      <td>-0.567859</td>\n",
       "      <td>0.004633</td>\n",
       "      <td>-0.018071</td>\n",
       "      <td>-0.440915</td>\n",
       "      <td>-0.280512</td>\n",
       "      <td>-0.318129</td>\n",
       "      <td>-0.087513</td>\n",
       "      <td>-0.554097</td>\n",
       "      <td>0.508457</td>\n",
       "      <td>0.298383</td>\n",
       "      <td>0.958595</td>\n",
       "      <td>-0.264251</td>\n",
       "      <td>1.000000</td>\n",
       "      <td>-0.462247</td>\n",
       "      <td>-0.075402</td>\n",
       "      <td>0.260787</td>\n",
       "    </tr>\n",
       "    <tr>\n",
       "      <th>FTA/FGA</th>\n",
       "      <td>0.029527</td>\n",
       "      <td>0.084657</td>\n",
       "      <td>-0.089920</td>\n",
       "      <td>-0.393920</td>\n",
       "      <td>-0.422801</td>\n",
       "      <td>0.609791</td>\n",
       "      <td>0.715877</td>\n",
       "      <td>0.389839</td>\n",
       "      <td>0.326398</td>\n",
       "      <td>0.382725</td>\n",
       "      <td>-0.035526</td>\n",
       "      <td>-0.019299</td>\n",
       "      <td>0.295305</td>\n",
       "      <td>0.200773</td>\n",
       "      <td>0.243105</td>\n",
       "      <td>0.156022</td>\n",
       "      <td>0.345604</td>\n",
       "      <td>-0.238726</td>\n",
       "      <td>-0.160444</td>\n",
       "      <td>-0.484389</td>\n",
       "      <td>0.644590</td>\n",
       "      <td>-0.462247</td>\n",
       "      <td>1.000000</td>\n",
       "      <td>0.247914</td>\n",
       "      <td>-0.205675</td>\n",
       "    </tr>\n",
       "    <tr>\n",
       "      <th>TRU%</th>\n",
       "      <td>0.285060</td>\n",
       "      <td>0.415190</td>\n",
       "      <td>0.023437</td>\n",
       "      <td>0.110331</td>\n",
       "      <td>-0.078580</td>\n",
       "      <td>0.279679</td>\n",
       "      <td>0.250066</td>\n",
       "      <td>0.238987</td>\n",
       "      <td>0.264691</td>\n",
       "      <td>0.277521</td>\n",
       "      <td>-0.087770</td>\n",
       "      <td>-0.117243</td>\n",
       "      <td>0.240712</td>\n",
       "      <td>-0.028213</td>\n",
       "      <td>0.023474</td>\n",
       "      <td>0.409845</td>\n",
       "      <td>0.825703</td>\n",
       "      <td>0.285932</td>\n",
       "      <td>0.179776</td>\n",
       "      <td>-0.130948</td>\n",
       "      <td>0.897317</td>\n",
       "      <td>-0.075402</td>\n",
       "      <td>0.247914</td>\n",
       "      <td>1.000000</td>\n",
       "      <td>-0.108854</td>\n",
       "    </tr>\n",
       "    <tr>\n",
       "      <th>AST_TOV</th>\n",
       "      <td>0.020729</td>\n",
       "      <td>-0.112628</td>\n",
       "      <td>-0.005786</td>\n",
       "      <td>0.201612</td>\n",
       "      <td>0.214002</td>\n",
       "      <td>-0.109309</td>\n",
       "      <td>-0.176569</td>\n",
       "      <td>-0.380512</td>\n",
       "      <td>-0.334624</td>\n",
       "      <td>-0.383750</td>\n",
       "      <td>0.565670</td>\n",
       "      <td>0.175350</td>\n",
       "      <td>-0.319606</td>\n",
       "      <td>-0.186471</td>\n",
       "      <td>-0.322230</td>\n",
       "      <td>-0.070553</td>\n",
       "      <td>-0.236062</td>\n",
       "      <td>0.124588</td>\n",
       "      <td>0.165247</td>\n",
       "      <td>0.270838</td>\n",
       "      <td>-0.174381</td>\n",
       "      <td>0.260787</td>\n",
       "      <td>-0.205675</td>\n",
       "      <td>-0.108854</td>\n",
       "      <td>1.000000</td>\n",
       "    </tr>\n",
       "  </tbody>\n",
       "</table>\n",
       "</div>"
      ],
      "text/plain": [
       "               MIN       FGM       FGA      FG3M      FG3A       FTM  \\\n",
       "MIN       1.000000  0.407087  0.343630  0.178127  0.103257  0.322161   \n",
       "FGM       0.407087  1.000000  0.870539  0.191760  0.134698  0.631948   \n",
       "FGA       0.343630  0.870539  1.000000  0.425708  0.446272  0.571423   \n",
       "FG3M      0.178127  0.191760  0.425708  1.000000  0.953799 -0.013062   \n",
       "FG3A      0.103257  0.134698  0.446272  0.953799  1.000000 -0.029426   \n",
       "FTM       0.322161  0.631948  0.571423 -0.013062 -0.029426  1.000000   \n",
       "FTA       0.261340  0.596654  0.492278 -0.149965 -0.164909  0.955754   \n",
       "OREB     -0.119414  0.080472 -0.218719 -0.611848 -0.647021  0.094089   \n",
       "DREB      0.053450  0.236479 -0.008945 -0.394101 -0.429012  0.213189   \n",
       "REB      -0.015350  0.191296 -0.099064 -0.522208 -0.560366  0.181628   \n",
       "AST       0.218918  0.249638  0.349353  0.139186  0.155212  0.267302   \n",
       "STL       0.032569 -0.030116  0.015506 -0.029798 -0.008070  0.023139   \n",
       "BLK      -0.055551  0.080294 -0.162664 -0.430168 -0.457898  0.083714   \n",
       "TOV       0.150451  0.434114  0.448649 -0.069116 -0.048384  0.469862   \n",
       "PF       -0.357046 -0.181884 -0.316682 -0.402573 -0.397351 -0.077240   \n",
       "PTS       0.431262  0.958685  0.897297  0.354258  0.297682  0.753976   \n",
       "FG%       0.174159  0.404405 -0.073205 -0.377341 -0.520249  0.206827   \n",
       "3PT%      0.169111  0.124870  0.167745  0.575656  0.441773  0.010468   \n",
       "FT%       0.230071  0.197091  0.299447  0.399155  0.380460  0.271189   \n",
       "FG3A%    -0.033162 -0.263421  0.022769  0.823509  0.868370 -0.303953   \n",
       "PTS/FGA   0.232615  0.362172 -0.024864 -0.092068 -0.250147  0.485675   \n",
       "FG3M/FGM -0.007372 -0.252086  0.013706  0.845536  0.831423 -0.297400   \n",
       "FTA/FGA   0.029527  0.084657 -0.089920 -0.393920 -0.422801  0.609791   \n",
       "TRU%      0.285060  0.415190  0.023437  0.110331 -0.078580  0.279679   \n",
       "AST_TOV   0.020729 -0.112628 -0.005786  0.201612  0.214002 -0.109309   \n",
       "\n",
       "               FTA      OREB      DREB       REB       AST       STL  \\\n",
       "MIN       0.261340 -0.119414  0.053450 -0.015350  0.218918  0.032569   \n",
       "FGM       0.596654  0.080472  0.236479  0.191296  0.249638 -0.030116   \n",
       "FGA       0.492278 -0.218719 -0.008945 -0.099064  0.349353  0.015506   \n",
       "FG3M     -0.149965 -0.611848 -0.394101 -0.522208  0.139186 -0.029798   \n",
       "FG3A     -0.164909 -0.647021 -0.429012 -0.560366  0.155212 -0.008070   \n",
       "FTM       0.955754  0.094089  0.213189  0.181628  0.267302  0.023139   \n",
       "FTA       1.000000  0.235288  0.310255  0.306202  0.199970  0.023219   \n",
       "OREB      0.235288  1.000000  0.668057  0.869391 -0.354227 -0.103263   \n",
       "DREB      0.310255  0.668057  1.000000  0.948486 -0.203434 -0.122616   \n",
       "REB       0.306202  0.869391  0.948486  1.000000 -0.285909 -0.125389   \n",
       "AST       0.199970 -0.354227 -0.203434 -0.285909  1.000000  0.282545   \n",
       "STL       0.023219 -0.103263 -0.122616 -0.125389  0.282545  1.000000   \n",
       "BLK       0.189075  0.603079  0.538503  0.614364 -0.304061 -0.052130   \n",
       "TOV       0.473771  0.006359  0.148571  0.101366  0.575880  0.163157   \n",
       "PF        0.020817  0.486929  0.326665  0.424240 -0.291242 -0.008181   \n",
       "PTS       0.685278 -0.046888  0.149697  0.079443  0.291596 -0.021655   \n",
       "FG%       0.284775  0.571435  0.481548  0.563070 -0.143795 -0.100776   \n",
       "3PT%     -0.080297 -0.397724 -0.229456 -0.320159  0.086113 -0.024651   \n",
       "FT%       0.029786 -0.369942 -0.238100 -0.315465  0.195765 -0.030099   \n",
       "FG3A%    -0.421937 -0.646748 -0.483392 -0.596361  0.019039 -0.003796   \n",
       "PTS/FGA   0.507210  0.363898  0.356177  0.391455 -0.085653 -0.103897   \n",
       "FG3M/FGM -0.410105 -0.614560 -0.461108 -0.567859  0.004633 -0.018071   \n",
       "FTA/FGA   0.715877  0.389839  0.326398  0.382725 -0.035526 -0.019299   \n",
       "TRU%      0.250066  0.238987  0.264691  0.277521 -0.087770 -0.117243   \n",
       "AST_TOV  -0.176569 -0.380512 -0.334624 -0.383750  0.565670  0.175350   \n",
       "\n",
       "               BLK       TOV        PF       PTS       FG%      3PT%  \\\n",
       "MIN      -0.055551  0.150451 -0.357046  0.431262  0.174159  0.169111   \n",
       "FGM       0.080294  0.434114 -0.181884  0.958685  0.404405  0.124870   \n",
       "FGA      -0.162664  0.448649 -0.316682  0.897297 -0.073205  0.167745   \n",
       "FG3M     -0.430168 -0.069116 -0.402573  0.354258 -0.377341  0.575656   \n",
       "FG3A     -0.457898 -0.048384 -0.397351  0.297682 -0.520249  0.441773   \n",
       "FTM       0.083714  0.469862 -0.077240  0.753976  0.206827  0.010468   \n",
       "FTA       0.189075  0.473771  0.020817  0.685278  0.284775 -0.080297   \n",
       "OREB      0.603079  0.006359  0.486929 -0.046888  0.571435 -0.397724   \n",
       "DREB      0.538503  0.148571  0.326665  0.149697  0.481548 -0.229456   \n",
       "REB       0.614364  0.101366  0.424240  0.079443  0.563070 -0.320159   \n",
       "AST      -0.304061  0.575880 -0.291242  0.291596 -0.143795  0.086113   \n",
       "STL      -0.052130  0.163157 -0.008181 -0.021655 -0.100776 -0.024651   \n",
       "BLK       1.000000  0.002294  0.425949 -0.010459  0.474059 -0.261684   \n",
       "TOV       0.002294  1.000000  0.056228  0.440703  0.057305 -0.069377   \n",
       "PF        0.425949  0.056228  1.000000 -0.243426  0.223645 -0.269633   \n",
       "PTS      -0.010459  0.440703 -0.243426  1.000000  0.274093  0.215612   \n",
       "FG%       0.474059  0.057305  0.223645  0.274093  1.000000 -0.067570   \n",
       "3PT%     -0.261684 -0.069377 -0.269633  0.215612 -0.067570  1.000000   \n",
       "FT%      -0.290133  0.038617 -0.281033  0.311393 -0.172063  0.278175   \n",
       "FG3A%    -0.460800 -0.273585 -0.319712 -0.102529 -0.594773  0.430163   \n",
       "PTS/FGA   0.322848  0.064760  0.128304  0.387836  0.808160  0.142576   \n",
       "FG3M/FGM -0.440915 -0.280512 -0.318129 -0.087513 -0.554097  0.508457   \n",
       "FTA/FGA   0.295305  0.200773  0.243105  0.156022  0.345604 -0.238726   \n",
       "TRU%      0.240712 -0.028213  0.023474  0.409845  0.825703  0.285932   \n",
       "AST_TOV  -0.319606 -0.186471 -0.322230 -0.070553 -0.236062  0.124588   \n",
       "\n",
       "               FT%     FG3A%   PTS/FGA  FG3M/FGM   FTA/FGA      TRU%   AST_TOV  \n",
       "MIN       0.230071 -0.033162  0.232615 -0.007372  0.029527  0.285060  0.020729  \n",
       "FGM       0.197091 -0.263421  0.362172 -0.252086  0.084657  0.415190 -0.112628  \n",
       "FGA       0.299447  0.022769 -0.024864  0.013706 -0.089920  0.023437 -0.005786  \n",
       "FG3M      0.399155  0.823509 -0.092068  0.845536 -0.393920  0.110331  0.201612  \n",
       "FG3A      0.380460  0.868370 -0.250147  0.831423 -0.422801 -0.078580  0.214002  \n",
       "FTM       0.271189 -0.303953  0.485675 -0.297400  0.609791  0.279679 -0.109309  \n",
       "FTA       0.029786 -0.421937  0.507210 -0.410105  0.715877  0.250066 -0.176569  \n",
       "OREB     -0.369942 -0.646748  0.363898 -0.614560  0.389839  0.238987 -0.380512  \n",
       "DREB     -0.238100 -0.483392  0.356177 -0.461108  0.326398  0.264691 -0.334624  \n",
       "REB      -0.315465 -0.596361  0.391455 -0.567859  0.382725  0.277521 -0.383750  \n",
       "AST       0.195765  0.019039 -0.085653  0.004633 -0.035526 -0.087770  0.565670  \n",
       "STL      -0.030099 -0.003796 -0.103897 -0.018071 -0.019299 -0.117243  0.175350  \n",
       "BLK      -0.290133 -0.460800  0.322848 -0.440915  0.295305  0.240712 -0.319606  \n",
       "TOV       0.038617 -0.273585  0.064760 -0.280512  0.200773 -0.028213 -0.186471  \n",
       "PF       -0.281033 -0.319712  0.128304 -0.318129  0.243105  0.023474 -0.322230  \n",
       "PTS       0.311393 -0.102529  0.387836 -0.087513  0.156022  0.409845 -0.070553  \n",
       "FG%      -0.172063 -0.594773  0.808160 -0.554097  0.345604  0.825703 -0.236062  \n",
       "3PT%      0.278175  0.430163  0.142576  0.508457 -0.238726  0.285932  0.124588  \n",
       "FT%       1.000000  0.297124  0.067933  0.298383 -0.160444  0.179776  0.165247  \n",
       "FG3A%     0.297124  1.000000 -0.318283  0.958595 -0.484389 -0.130948  0.270838  \n",
       "PTS/FGA   0.067933 -0.318283  1.000000 -0.264251  0.644590  0.897317 -0.174381  \n",
       "FG3M/FGM  0.298383  0.958595 -0.264251  1.000000 -0.462247 -0.075402  0.260787  \n",
       "FTA/FGA  -0.160444 -0.484389  0.644590 -0.462247  1.000000  0.247914 -0.205675  \n",
       "TRU%      0.179776 -0.130948  0.897317 -0.075402  0.247914  1.000000 -0.108854  \n",
       "AST_TOV   0.165247  0.270838 -0.174381  0.260787 -0.205675 -0.108854  1.000000  "
      ]
     },
     "execution_count": 18,
     "metadata": {},
     "output_type": "execute_result"
    }
   ],
   "source": [
    "data_per_min.corr()"
   ]
  },
  {
   "cell_type": "code",
   "execution_count": 21,
   "metadata": {},
   "outputs": [
    {
     "data": {
      "application/vnd.plotly.v1+json": {
       "config": {
        "plotlyServerURL": "https://plot.ly"
       },
       "data": [
        {
         "coloraxis": "coloraxis",
         "hovertemplate": "x: %{x}<br>y: %{y}<br>color: %{z}<extra></extra>",
         "name": "0",
         "type": "heatmap",
         "x": [
          "MIN",
          "FGM",
          "FGA",
          "FG3M",
          "FG3A",
          "FTM",
          "FTA",
          "OREB",
          "DREB",
          "REB",
          "AST",
          "STL",
          "BLK",
          "TOV",
          "PF",
          "PTS",
          "FG%",
          "3PT%",
          "FT%",
          "FG3A%",
          "PTS/FGA",
          "FG3M/FGM",
          "FTA/FGA",
          "TRU%",
          "AST_TOV"
         ],
         "xaxis": "x",
         "y": [
          "MIN",
          "FGM",
          "FGA",
          "FG3M",
          "FG3A",
          "FTM",
          "FTA",
          "OREB",
          "DREB",
          "REB",
          "AST",
          "STL",
          "BLK",
          "TOV",
          "PF",
          "PTS",
          "FG%",
          "3PT%",
          "FT%",
          "FG3A%",
          "PTS/FGA",
          "FG3M/FGM",
          "FTA/FGA",
          "TRU%",
          "AST_TOV"
         ],
         "yaxis": "y",
         "z": [
          [
           1,
           0.407087214115011,
           0.3436300396689941,
           0.17812730430352486,
           0.10325736185949358,
           0.3221614710167807,
           0.2613396892475247,
           -0.11941441261419927,
           0.05345014740920195,
           -0.015349670215018919,
           0.2189175361488047,
           0.03256874538766517,
           -0.05555125642134923,
           0.15045095342570813,
           -0.35704582984754407,
           0.43126247607302975,
           0.17415907666715189,
           0.16911143520390923,
           0.23007111663134672,
           -0.03316151489854654,
           0.23261456577496087,
           -0.007371763345068219,
           0.02952681687788579,
           0.28505953696895914,
           0.020728641618962623
          ],
          [
           0.407087214115011,
           1,
           0.8705391343261156,
           0.19176017386097807,
           0.13469824917939566,
           0.6319483999734352,
           0.5966542965816972,
           0.08047185473469659,
           0.2364793625016043,
           0.19129592105804707,
           0.2496375407881689,
           -0.03011636945864571,
           0.08029412957552634,
           0.43411448373394645,
           -0.18188432282054773,
           0.958684731194637,
           0.40440486113401863,
           0.12487029788963061,
           0.19709127551347957,
           -0.26342149441786283,
           0.36217224081594396,
           -0.2520864184853958,
           0.08465672339061868,
           0.41519042757035085,
           -0.11262822679397338
          ],
          [
           0.3436300396689941,
           0.8705391343261156,
           1,
           0.42570797564252116,
           0.4462718781171787,
           0.5714233356184871,
           0.492278315127383,
           -0.21871943522647622,
           -0.00894470643907396,
           -0.09906389172225842,
           0.34935282877189733,
           0.015506372094907786,
           -0.16266405978715645,
           0.44864919022377925,
           -0.31668204731320154,
           0.8972970816405169,
           -0.07320493014808607,
           0.16774462588699385,
           0.29944721649122874,
           0.02276878119778677,
           -0.024864050490004248,
           0.013706205779846457,
           -0.08992020381592057,
           0.023437196343543645,
           -0.00578558190283099
          ],
          [
           0.17812730430352486,
           0.19176017386097807,
           0.42570797564252116,
           1,
           0.9537990261959512,
           -0.013062434516293438,
           -0.1499645805073972,
           -0.6118475632481367,
           -0.39410123822551196,
           -0.5222081222462026,
           0.13918634748739458,
           -0.02979836831281118,
           -0.43016813098198703,
           -0.06911614439575621,
           -0.4025733107724692,
           0.3542584121222965,
           -0.3773407726741847,
           0.5756556935526698,
           0.39915452879463814,
           0.8235090255980936,
           -0.09206820868119002,
           0.845536257355168,
           -0.39392049299179405,
           0.11033054807606317,
           0.20161162869542068
          ],
          [
           0.10325736185949358,
           0.13469824917939566,
           0.4462718781171787,
           0.9537990261959512,
           1,
           -0.029426343512115087,
           -0.1649087737203552,
           -0.6470207835058356,
           -0.42901206078195026,
           -0.5603662537331638,
           0.1552119507066995,
           -0.008069758157689354,
           -0.4578980572211251,
           -0.048384053598282926,
           -0.3973505027628955,
           0.2976821146935987,
           -0.5202492186309214,
           0.44177288580563706,
           0.3804600523045938,
           0.8683698310209128,
           -0.2501470935102171,
           0.8314229525940029,
           -0.42280086696701563,
           -0.07858003023709528,
           0.21400209047138793
          ],
          [
           0.3221614710167807,
           0.6319483999734352,
           0.5714233356184871,
           -0.013062434516293438,
           -0.029426343512115087,
           1,
           0.955753836753512,
           0.09408901513031154,
           0.21318875625105319,
           0.18162764261799938,
           0.26730192650131335,
           0.023138782263511154,
           0.08371439170646572,
           0.4698623202528387,
           -0.07724046261500798,
           0.7539760113031403,
           0.2068266227049482,
           0.010468033464023198,
           0.2711894547714601,
           -0.3039530626451212,
           0.48567516005854483,
           -0.29740019677059654,
           0.6097910168765454,
           0.2796793499200498,
           -0.10930930007246728
          ],
          [
           0.2613396892475247,
           0.5966542965816972,
           0.492278315127383,
           -0.1499645805073972,
           -0.1649087737203552,
           0.955753836753512,
           1,
           0.23528766862366277,
           0.3102545161184073,
           0.30620202935645363,
           0.19996990167032222,
           0.023219155387828153,
           0.1890750914486641,
           0.47377077320620764,
           0.020816610925327297,
           0.6852775560485134,
           0.28477506449873846,
           -0.08029738849022305,
           0.02978587304293608,
           -0.42193736993238556,
           0.5072097438805829,
           -0.4101053075587003,
           0.7158768012915726,
           0.25006596533734604,
           -0.17656915230849432
          ],
          [
           -0.11941441261419927,
           0.08047185473469659,
           -0.21871943522647622,
           -0.6118475632481367,
           -0.6470207835058356,
           0.09408901513031154,
           0.23528766862366277,
           1,
           0.6680572221311072,
           0.8693914604346781,
           -0.35422707174833734,
           -0.10326253416798546,
           0.6030791811785977,
           0.00635902758940475,
           0.48692886690484943,
           -0.04688759891313551,
           0.5714351165577799,
           -0.3977238557126954,
           -0.369942250022811,
           -0.646747544549361,
           0.36389829546082436,
           -0.61456045353217,
           0.38983873461268587,
           0.23898726130308687,
           -0.3805116642952508
          ],
          [
           0.05345014740920195,
           0.2364793625016043,
           -0.00894470643907396,
           -0.39410123822551196,
           -0.42901206078195026,
           0.21318875625105319,
           0.3102545161184073,
           0.6680572221311072,
           1,
           0.9484857765296112,
           -0.20343407212629983,
           -0.12261600533713014,
           0.5385030321123345,
           0.14857105959864178,
           0.32666475737131195,
           0.14969739421341674,
           0.4815475788184476,
           -0.22945587331991,
           -0.23810038954311666,
           -0.4833916218615161,
           0.35617697709277024,
           -0.4611083610486417,
           0.3263981270148435,
           0.26469118136042497,
           -0.33462441603533655
          ],
          [
           -0.015349670215018919,
           0.19129592105804707,
           -0.09906389172225842,
           -0.5222081222462026,
           -0.5603662537331638,
           0.18162764261799938,
           0.30620202935645363,
           0.8693914604346781,
           0.9484857765296112,
           1,
           -0.28590906857110726,
           -0.12538888736270928,
           0.6143643880458706,
           0.10136565230609004,
           0.42424048808110965,
           0.07944277231794962,
           0.5630701940929191,
           -0.32015900611939374,
           -0.31546471035119567,
           -0.5963605020283118,
           0.39145525627207545,
           -0.5678590696481067,
           0.3827253619615899,
           0.2775210086568729,
           -0.3837503534033193
          ],
          [
           0.2189175361488047,
           0.2496375407881689,
           0.34935282877189733,
           0.13918634748739458,
           0.1552119507066995,
           0.26730192650131335,
           0.19996990167032222,
           -0.35422707174833734,
           -0.20343407212629983,
           -0.28590906857110726,
           1,
           0.2825453095376754,
           -0.3040613245304047,
           0.5758803598295708,
           -0.2912421202346204,
           0.2915956292650277,
           -0.14379506230492606,
           0.0861130880103898,
           0.19576469829360962,
           0.01903901925620688,
           -0.0856530812819651,
           0.004632712322929569,
           -0.0355257310555664,
           -0.08777009957597988,
           0.5656696126036829
          ],
          [
           0.03256874538766517,
           -0.03011636945864571,
           0.015506372094907786,
           -0.02979836831281118,
           -0.008069758157689354,
           0.023138782263511154,
           0.023219155387828153,
           -0.10326253416798546,
           -0.12261600533713014,
           -0.12538888736270928,
           0.2825453095376754,
           1,
           -0.05213035806317879,
           0.16315721029170566,
           -0.008181175972230491,
           -0.021655201784796196,
           -0.10077609750069023,
           -0.02465146564943856,
           -0.030099367810605054,
           -0.0037957757020484002,
           -0.10389725318375284,
           -0.0180708157475395,
           -0.01929875525055888,
           -0.11724282561872577,
           0.1753498732449932
          ],
          [
           -0.05555125642134923,
           0.08029412957552634,
           -0.16266405978715645,
           -0.43016813098198703,
           -0.4578980572211251,
           0.08371439170646572,
           0.1890750914486641,
           0.6030791811785977,
           0.5385030321123345,
           0.6143643880458706,
           -0.3040613245304047,
           -0.05213035806317879,
           1,
           0.002293855130947977,
           0.42594866044194324,
           -0.01045872634341275,
           0.47405868493310377,
           -0.2616835827704631,
           -0.29013255129433646,
           -0.4608004869518644,
           0.3228478090002182,
           -0.440915001799796,
           0.2953048594325563,
           0.24071204330101145,
           -0.319605634906881
          ],
          [
           0.15045095342570813,
           0.43411448373394645,
           0.44864919022377925,
           -0.06911614439575621,
           -0.048384053598282926,
           0.4698623202528387,
           0.47377077320620764,
           0.00635902758940475,
           0.14857105959864178,
           0.10136565230609004,
           0.5758803598295708,
           0.16315721029170566,
           0.002293855130947977,
           1,
           0.05622780987118694,
           0.44070289285523345,
           0.057304560260851345,
           -0.06937694222018181,
           0.038616765007388205,
           -0.2735846326953174,
           0.064759692044556,
           -0.28051242562344525,
           0.20077268376526336,
           -0.02821338867413479,
           -0.186470569673591
          ],
          [
           -0.35704582984754407,
           -0.18188432282054773,
           -0.31668204731320154,
           -0.4025733107724692,
           -0.3973505027628955,
           -0.07724046261500798,
           0.020816610925327297,
           0.48692886690484943,
           0.32666475737131195,
           0.42424048808110965,
           -0.2912421202346204,
           -0.008181175972230491,
           0.42594866044194324,
           0.05622780987118694,
           1,
           -0.24342558698882744,
           0.22364500509156834,
           -0.26963252192844883,
           -0.28103314942112545,
           -0.3197116213549434,
           0.12830419954492842,
           -0.3181294409584545,
           0.2431047259883051,
           0.023474449974041554,
           -0.32222979772514454
          ],
          [
           0.43126247607302975,
           0.958684731194637,
           0.8972970816405169,
           0.3542584121222965,
           0.2976821146935987,
           0.7539760113031403,
           0.6852775560485134,
           -0.04688759891313551,
           0.14969739421341674,
           0.07944277231794962,
           0.2915956292650277,
           -0.021655201784796196,
           -0.01045872634341275,
           0.44070289285523345,
           -0.24342558698882744,
           1,
           0.27409290645075246,
           0.21561153274530864,
           0.31139346108220417,
           -0.10252917714423025,
           0.38783562110846376,
           -0.08751274622784092,
           0.15602231124628418,
           0.40984526300692725,
           -0.07055305988642954
          ],
          [
           0.17415907666715189,
           0.40440486113401863,
           -0.07320493014808607,
           -0.3773407726741847,
           -0.5202492186309214,
           0.2068266227049482,
           0.28477506449873846,
           0.5714351165577799,
           0.4815475788184476,
           0.5630701940929191,
           -0.14379506230492606,
           -0.10077609750069023,
           0.47405868493310377,
           0.057304560260851345,
           0.22364500509156834,
           0.27409290645075246,
           1,
           -0.06756991539982983,
           -0.17206332571620536,
           -0.5947726962140812,
           0.8081602012730993,
           -0.5540970763721116,
           0.34560447533922883,
           0.8257025686239401,
           -0.23606197202937151
          ],
          [
           0.16911143520390923,
           0.12487029788963061,
           0.16774462588699385,
           0.5756556935526698,
           0.44177288580563706,
           0.010468033464023198,
           -0.08029738849022305,
           -0.3977238557126954,
           -0.22945587331991,
           -0.32015900611939374,
           0.0861130880103898,
           -0.02465146564943856,
           -0.2616835827704631,
           -0.06937694222018181,
           -0.26963252192844883,
           0.21561153274530864,
           -0.06756991539982983,
           1,
           0.2781746572257188,
           0.43016302426845865,
           0.14257578178950378,
           0.5084566809830222,
           -0.2387264281063605,
           0.28593214356880126,
           0.12458756003576033
          ],
          [
           0.23007111663134672,
           0.19709127551347957,
           0.29944721649122874,
           0.39915452879463814,
           0.3804600523045938,
           0.2711894547714601,
           0.02978587304293608,
           -0.369942250022811,
           -0.23810038954311666,
           -0.31546471035119567,
           0.19576469829360962,
           -0.030099367810605054,
           -0.29013255129433646,
           0.038616765007388205,
           -0.28103314942112545,
           0.31139346108220417,
           -0.17206332571620536,
           0.2781746572257188,
           1,
           0.2971240357517873,
           0.06793299410902691,
           0.29838298910918754,
           -0.16044387408870625,
           0.17977573585129555,
           0.16524650898846205
          ],
          [
           -0.03316151489854654,
           -0.26342149441786283,
           0.02276878119778677,
           0.8235090255980936,
           0.8683698310209128,
           -0.3039530626451212,
           -0.42193736993238556,
           -0.646747544549361,
           -0.4833916218615161,
           -0.5963605020283118,
           0.01903901925620688,
           -0.0037957757020484002,
           -0.4608004869518644,
           -0.2735846326953174,
           -0.3197116213549434,
           -0.10252917714423025,
           -0.5947726962140812,
           0.43016302426845865,
           0.2971240357517873,
           1,
           -0.31828339471111455,
           0.9585950542865623,
           -0.48438929928936875,
           -0.13094833756477345,
           0.27083824285729546
          ],
          [
           0.23261456577496087,
           0.36217224081594396,
           -0.024864050490004248,
           -0.09206820868119002,
           -0.2501470935102171,
           0.48567516005854483,
           0.5072097438805829,
           0.36389829546082436,
           0.35617697709277024,
           0.39145525627207545,
           -0.0856530812819651,
           -0.10389725318375284,
           0.3228478090002182,
           0.064759692044556,
           0.12830419954492842,
           0.38783562110846376,
           0.8081602012730993,
           0.14257578178950378,
           0.06793299410902691,
           -0.31828339471111455,
           1,
           -0.26425098131358066,
           0.6445902189333602,
           0.8973173453878954,
           -0.17438068677595492
          ],
          [
           -0.007371763345068219,
           -0.2520864184853958,
           0.013706205779846457,
           0.845536257355168,
           0.8314229525940029,
           -0.29740019677059654,
           -0.4101053075587003,
           -0.61456045353217,
           -0.4611083610486417,
           -0.5678590696481067,
           0.004632712322929569,
           -0.0180708157475395,
           -0.440915001799796,
           -0.28051242562344525,
           -0.3181294409584545,
           -0.08751274622784092,
           -0.5540970763721116,
           0.5084566809830222,
           0.29838298910918754,
           0.9585950542865623,
           -0.26425098131358066,
           1,
           -0.46224739112076385,
           -0.0754024532093544,
           0.2607869938073911
          ],
          [
           0.02952681687788579,
           0.08465672339061868,
           -0.08992020381592057,
           -0.39392049299179405,
           -0.42280086696701563,
           0.6097910168765454,
           0.7158768012915726,
           0.38983873461268587,
           0.3263981270148435,
           0.3827253619615899,
           -0.0355257310555664,
           -0.01929875525055888,
           0.2953048594325563,
           0.20077268376526336,
           0.2431047259883051,
           0.15602231124628418,
           0.34560447533922883,
           -0.2387264281063605,
           -0.16044387408870625,
           -0.48438929928936875,
           0.6445902189333602,
           -0.46224739112076385,
           1,
           0.24791448661194443,
           -0.2056747166355231
          ],
          [
           0.28505953696895914,
           0.41519042757035085,
           0.023437196343543645,
           0.11033054807606317,
           -0.07858003023709528,
           0.2796793499200498,
           0.25006596533734604,
           0.23898726130308687,
           0.26469118136042497,
           0.2775210086568729,
           -0.08777009957597988,
           -0.11724282561872577,
           0.24071204330101145,
           -0.02821338867413479,
           0.023474449974041554,
           0.40984526300692725,
           0.8257025686239401,
           0.28593214356880126,
           0.17977573585129555,
           -0.13094833756477345,
           0.8973173453878954,
           -0.0754024532093544,
           0.24791448661194443,
           1,
           -0.10885354032467127
          ],
          [
           0.020728641618962623,
           -0.11262822679397338,
           -0.00578558190283099,
           0.20161162869542068,
           0.21400209047138793,
           -0.10930930007246728,
           -0.17656915230849432,
           -0.3805116642952508,
           -0.33462441603533655,
           -0.3837503534033193,
           0.5656696126036829,
           0.1753498732449932,
           -0.319605634906881,
           -0.186470569673591,
           -0.32222979772514454,
           -0.07055305988642954,
           -0.23606197202937151,
           0.12458756003576033,
           0.16524650898846205,
           0.27083824285729546,
           -0.17438068677595492,
           0.2607869938073911,
           -0.2056747166355231,
           -0.10885354032467127,
           1
          ]
         ]
        }
       ],
       "layout": {
        "autosize": false,
        "coloraxis": {
         "colorscale": [
          [
           0,
           "#0d0887"
          ],
          [
           0.1111111111111111,
           "#46039f"
          ],
          [
           0.2222222222222222,
           "#7201a8"
          ],
          [
           0.3333333333333333,
           "#9c179e"
          ],
          [
           0.4444444444444444,
           "#bd3786"
          ],
          [
           0.5555555555555556,
           "#d8576b"
          ],
          [
           0.6666666666666666,
           "#ed7953"
          ],
          [
           0.7777777777777778,
           "#fb9f3a"
          ],
          [
           0.8888888888888888,
           "#fdca26"
          ],
          [
           1,
           "#f0f921"
          ]
         ]
        },
        "height": 750,
        "margin": {
         "t": 60
        },
        "template": {
         "data": {
          "bar": [
           {
            "error_x": {
             "color": "#2a3f5f"
            },
            "error_y": {
             "color": "#2a3f5f"
            },
            "marker": {
             "line": {
              "color": "#E5ECF6",
              "width": 0.5
             },
             "pattern": {
              "fillmode": "overlay",
              "size": 10,
              "solidity": 0.2
             }
            },
            "type": "bar"
           }
          ],
          "barpolar": [
           {
            "marker": {
             "line": {
              "color": "#E5ECF6",
              "width": 0.5
             },
             "pattern": {
              "fillmode": "overlay",
              "size": 10,
              "solidity": 0.2
             }
            },
            "type": "barpolar"
           }
          ],
          "carpet": [
           {
            "aaxis": {
             "endlinecolor": "#2a3f5f",
             "gridcolor": "white",
             "linecolor": "white",
             "minorgridcolor": "white",
             "startlinecolor": "#2a3f5f"
            },
            "baxis": {
             "endlinecolor": "#2a3f5f",
             "gridcolor": "white",
             "linecolor": "white",
             "minorgridcolor": "white",
             "startlinecolor": "#2a3f5f"
            },
            "type": "carpet"
           }
          ],
          "choropleth": [
           {
            "colorbar": {
             "outlinewidth": 0,
             "ticks": ""
            },
            "type": "choropleth"
           }
          ],
          "contour": [
           {
            "colorbar": {
             "outlinewidth": 0,
             "ticks": ""
            },
            "colorscale": [
             [
              0,
              "#0d0887"
             ],
             [
              0.1111111111111111,
              "#46039f"
             ],
             [
              0.2222222222222222,
              "#7201a8"
             ],
             [
              0.3333333333333333,
              "#9c179e"
             ],
             [
              0.4444444444444444,
              "#bd3786"
             ],
             [
              0.5555555555555556,
              "#d8576b"
             ],
             [
              0.6666666666666666,
              "#ed7953"
             ],
             [
              0.7777777777777778,
              "#fb9f3a"
             ],
             [
              0.8888888888888888,
              "#fdca26"
             ],
             [
              1,
              "#f0f921"
             ]
            ],
            "type": "contour"
           }
          ],
          "contourcarpet": [
           {
            "colorbar": {
             "outlinewidth": 0,
             "ticks": ""
            },
            "type": "contourcarpet"
           }
          ],
          "heatmap": [
           {
            "colorbar": {
             "outlinewidth": 0,
             "ticks": ""
            },
            "colorscale": [
             [
              0,
              "#0d0887"
             ],
             [
              0.1111111111111111,
              "#46039f"
             ],
             [
              0.2222222222222222,
              "#7201a8"
             ],
             [
              0.3333333333333333,
              "#9c179e"
             ],
             [
              0.4444444444444444,
              "#bd3786"
             ],
             [
              0.5555555555555556,
              "#d8576b"
             ],
             [
              0.6666666666666666,
              "#ed7953"
             ],
             [
              0.7777777777777778,
              "#fb9f3a"
             ],
             [
              0.8888888888888888,
              "#fdca26"
             ],
             [
              1,
              "#f0f921"
             ]
            ],
            "type": "heatmap"
           }
          ],
          "heatmapgl": [
           {
            "colorbar": {
             "outlinewidth": 0,
             "ticks": ""
            },
            "colorscale": [
             [
              0,
              "#0d0887"
             ],
             [
              0.1111111111111111,
              "#46039f"
             ],
             [
              0.2222222222222222,
              "#7201a8"
             ],
             [
              0.3333333333333333,
              "#9c179e"
             ],
             [
              0.4444444444444444,
              "#bd3786"
             ],
             [
              0.5555555555555556,
              "#d8576b"
             ],
             [
              0.6666666666666666,
              "#ed7953"
             ],
             [
              0.7777777777777778,
              "#fb9f3a"
             ],
             [
              0.8888888888888888,
              "#fdca26"
             ],
             [
              1,
              "#f0f921"
             ]
            ],
            "type": "heatmapgl"
           }
          ],
          "histogram": [
           {
            "marker": {
             "pattern": {
              "fillmode": "overlay",
              "size": 10,
              "solidity": 0.2
             }
            },
            "type": "histogram"
           }
          ],
          "histogram2d": [
           {
            "colorbar": {
             "outlinewidth": 0,
             "ticks": ""
            },
            "colorscale": [
             [
              0,
              "#0d0887"
             ],
             [
              0.1111111111111111,
              "#46039f"
             ],
             [
              0.2222222222222222,
              "#7201a8"
             ],
             [
              0.3333333333333333,
              "#9c179e"
             ],
             [
              0.4444444444444444,
              "#bd3786"
             ],
             [
              0.5555555555555556,
              "#d8576b"
             ],
             [
              0.6666666666666666,
              "#ed7953"
             ],
             [
              0.7777777777777778,
              "#fb9f3a"
             ],
             [
              0.8888888888888888,
              "#fdca26"
             ],
             [
              1,
              "#f0f921"
             ]
            ],
            "type": "histogram2d"
           }
          ],
          "histogram2dcontour": [
           {
            "colorbar": {
             "outlinewidth": 0,
             "ticks": ""
            },
            "colorscale": [
             [
              0,
              "#0d0887"
             ],
             [
              0.1111111111111111,
              "#46039f"
             ],
             [
              0.2222222222222222,
              "#7201a8"
             ],
             [
              0.3333333333333333,
              "#9c179e"
             ],
             [
              0.4444444444444444,
              "#bd3786"
             ],
             [
              0.5555555555555556,
              "#d8576b"
             ],
             [
              0.6666666666666666,
              "#ed7953"
             ],
             [
              0.7777777777777778,
              "#fb9f3a"
             ],
             [
              0.8888888888888888,
              "#fdca26"
             ],
             [
              1,
              "#f0f921"
             ]
            ],
            "type": "histogram2dcontour"
           }
          ],
          "mesh3d": [
           {
            "colorbar": {
             "outlinewidth": 0,
             "ticks": ""
            },
            "type": "mesh3d"
           }
          ],
          "parcoords": [
           {
            "line": {
             "colorbar": {
              "outlinewidth": 0,
              "ticks": ""
             }
            },
            "type": "parcoords"
           }
          ],
          "pie": [
           {
            "automargin": true,
            "type": "pie"
           }
          ],
          "scatter": [
           {
            "fillpattern": {
             "fillmode": "overlay",
             "size": 10,
             "solidity": 0.2
            },
            "type": "scatter"
           }
          ],
          "scatter3d": [
           {
            "line": {
             "colorbar": {
              "outlinewidth": 0,
              "ticks": ""
             }
            },
            "marker": {
             "colorbar": {
              "outlinewidth": 0,
              "ticks": ""
             }
            },
            "type": "scatter3d"
           }
          ],
          "scattercarpet": [
           {
            "marker": {
             "colorbar": {
              "outlinewidth": 0,
              "ticks": ""
             }
            },
            "type": "scattercarpet"
           }
          ],
          "scattergeo": [
           {
            "marker": {
             "colorbar": {
              "outlinewidth": 0,
              "ticks": ""
             }
            },
            "type": "scattergeo"
           }
          ],
          "scattergl": [
           {
            "marker": {
             "colorbar": {
              "outlinewidth": 0,
              "ticks": ""
             }
            },
            "type": "scattergl"
           }
          ],
          "scattermapbox": [
           {
            "marker": {
             "colorbar": {
              "outlinewidth": 0,
              "ticks": ""
             }
            },
            "type": "scattermapbox"
           }
          ],
          "scatterpolar": [
           {
            "marker": {
             "colorbar": {
              "outlinewidth": 0,
              "ticks": ""
             }
            },
            "type": "scatterpolar"
           }
          ],
          "scatterpolargl": [
           {
            "marker": {
             "colorbar": {
              "outlinewidth": 0,
              "ticks": ""
             }
            },
            "type": "scatterpolargl"
           }
          ],
          "scatterternary": [
           {
            "marker": {
             "colorbar": {
              "outlinewidth": 0,
              "ticks": ""
             }
            },
            "type": "scatterternary"
           }
          ],
          "surface": [
           {
            "colorbar": {
             "outlinewidth": 0,
             "ticks": ""
            },
            "colorscale": [
             [
              0,
              "#0d0887"
             ],
             [
              0.1111111111111111,
              "#46039f"
             ],
             [
              0.2222222222222222,
              "#7201a8"
             ],
             [
              0.3333333333333333,
              "#9c179e"
             ],
             [
              0.4444444444444444,
              "#bd3786"
             ],
             [
              0.5555555555555556,
              "#d8576b"
             ],
             [
              0.6666666666666666,
              "#ed7953"
             ],
             [
              0.7777777777777778,
              "#fb9f3a"
             ],
             [
              0.8888888888888888,
              "#fdca26"
             ],
             [
              1,
              "#f0f921"
             ]
            ],
            "type": "surface"
           }
          ],
          "table": [
           {
            "cells": {
             "fill": {
              "color": "#EBF0F8"
             },
             "line": {
              "color": "white"
             }
            },
            "header": {
             "fill": {
              "color": "#C8D4E3"
             },
             "line": {
              "color": "white"
             }
            },
            "type": "table"
           }
          ]
         },
         "layout": {
          "annotationdefaults": {
           "arrowcolor": "#2a3f5f",
           "arrowhead": 0,
           "arrowwidth": 1
          },
          "autotypenumbers": "strict",
          "coloraxis": {
           "colorbar": {
            "outlinewidth": 0,
            "ticks": ""
           }
          },
          "colorscale": {
           "diverging": [
            [
             0,
             "#8e0152"
            ],
            [
             0.1,
             "#c51b7d"
            ],
            [
             0.2,
             "#de77ae"
            ],
            [
             0.3,
             "#f1b6da"
            ],
            [
             0.4,
             "#fde0ef"
            ],
            [
             0.5,
             "#f7f7f7"
            ],
            [
             0.6,
             "#e6f5d0"
            ],
            [
             0.7,
             "#b8e186"
            ],
            [
             0.8,
             "#7fbc41"
            ],
            [
             0.9,
             "#4d9221"
            ],
            [
             1,
             "#276419"
            ]
           ],
           "sequential": [
            [
             0,
             "#0d0887"
            ],
            [
             0.1111111111111111,
             "#46039f"
            ],
            [
             0.2222222222222222,
             "#7201a8"
            ],
            [
             0.3333333333333333,
             "#9c179e"
            ],
            [
             0.4444444444444444,
             "#bd3786"
            ],
            [
             0.5555555555555556,
             "#d8576b"
            ],
            [
             0.6666666666666666,
             "#ed7953"
            ],
            [
             0.7777777777777778,
             "#fb9f3a"
            ],
            [
             0.8888888888888888,
             "#fdca26"
            ],
            [
             1,
             "#f0f921"
            ]
           ],
           "sequentialminus": [
            [
             0,
             "#0d0887"
            ],
            [
             0.1111111111111111,
             "#46039f"
            ],
            [
             0.2222222222222222,
             "#7201a8"
            ],
            [
             0.3333333333333333,
             "#9c179e"
            ],
            [
             0.4444444444444444,
             "#bd3786"
            ],
            [
             0.5555555555555556,
             "#d8576b"
            ],
            [
             0.6666666666666666,
             "#ed7953"
            ],
            [
             0.7777777777777778,
             "#fb9f3a"
            ],
            [
             0.8888888888888888,
             "#fdca26"
            ],
            [
             1,
             "#f0f921"
            ]
           ]
          },
          "colorway": [
           "#636efa",
           "#EF553B",
           "#00cc96",
           "#ab63fa",
           "#FFA15A",
           "#19d3f3",
           "#FF6692",
           "#B6E880",
           "#FF97FF",
           "#FECB52"
          ],
          "font": {
           "color": "#2a3f5f"
          },
          "geo": {
           "bgcolor": "white",
           "lakecolor": "white",
           "landcolor": "#E5ECF6",
           "showlakes": true,
           "showland": true,
           "subunitcolor": "white"
          },
          "hoverlabel": {
           "align": "left"
          },
          "hovermode": "closest",
          "mapbox": {
           "style": "light"
          },
          "paper_bgcolor": "white",
          "plot_bgcolor": "#E5ECF6",
          "polar": {
           "angularaxis": {
            "gridcolor": "white",
            "linecolor": "white",
            "ticks": ""
           },
           "bgcolor": "#E5ECF6",
           "radialaxis": {
            "gridcolor": "white",
            "linecolor": "white",
            "ticks": ""
           }
          },
          "scene": {
           "xaxis": {
            "backgroundcolor": "#E5ECF6",
            "gridcolor": "white",
            "gridwidth": 2,
            "linecolor": "white",
            "showbackground": true,
            "ticks": "",
            "zerolinecolor": "white"
           },
           "yaxis": {
            "backgroundcolor": "#E5ECF6",
            "gridcolor": "white",
            "gridwidth": 2,
            "linecolor": "white",
            "showbackground": true,
            "ticks": "",
            "zerolinecolor": "white"
           },
           "zaxis": {
            "backgroundcolor": "#E5ECF6",
            "gridcolor": "white",
            "gridwidth": 2,
            "linecolor": "white",
            "showbackground": true,
            "ticks": "",
            "zerolinecolor": "white"
           }
          },
          "shapedefaults": {
           "line": {
            "color": "#2a3f5f"
           }
          },
          "ternary": {
           "aaxis": {
            "gridcolor": "white",
            "linecolor": "white",
            "ticks": ""
           },
           "baxis": {
            "gridcolor": "white",
            "linecolor": "white",
            "ticks": ""
           },
           "bgcolor": "#E5ECF6",
           "caxis": {
            "gridcolor": "white",
            "linecolor": "white",
            "ticks": ""
           }
          },
          "title": {
           "x": 0.05
          },
          "xaxis": {
           "automargin": true,
           "gridcolor": "white",
           "linecolor": "white",
           "ticks": "",
           "title": {
            "standoff": 15
           },
           "zerolinecolor": "white",
           "zerolinewidth": 2
          },
          "yaxis": {
           "automargin": true,
           "gridcolor": "white",
           "linecolor": "white",
           "ticks": "",
           "title": {
            "standoff": 15
           },
           "zerolinecolor": "white",
           "zerolinewidth": 2
          }
         }
        },
        "width": 750,
        "xaxis": {
         "anchor": "y",
         "constrain": "domain",
         "domain": [
          0,
          1
         ],
         "scaleanchor": "y",
         "tickangle": 90,
         "tickfont": {
          "size": 8
         }
        },
        "yaxis": {
         "anchor": "x",
         "autorange": "reversed",
         "constrain": "domain",
         "domain": [
          0,
          1
         ],
         "tickfont": {
          "size": 8
         }
        }
       }
      }
     },
     "metadata": {},
     "output_type": "display_data"
    }
   ],
   "source": [
    "fig = px.imshow(data_per_min.corr())\n",
    "\n",
    "fig.layout.width = 500\n",
    "fig.layout.height = 500\n",
    "\n",
    "fig.update_layout(\n",
    "    xaxis=dict(tickangle=90, tickfont=dict(size=8)),\n",
    "    yaxis=dict(tickfont=dict(size=8)),\n",
    "    autosize=False,\n",
    "    width=1.5 * fig.layout.width,\n",
    "    height=1.5 * fig.layout.height\n",
    ")\n",
    "fig.show()"
   ]
  },
  {
   "cell_type": "code",
   "execution_count": null,
   "metadata": {},
   "outputs": [],
   "source": [
    "(data_per_min['MIN']>=50).mean()"
   ]
  },
  {
   "cell_type": "code",
   "execution_count": null,
   "metadata": {},
   "outputs": [],
   "source": [
    "data.sample(5)"
   ]
  }
 ],
 "metadata": {
  "kernelspec": {
   "display_name": "jupenv",
   "language": "python",
   "name": "python3"
  },
  "language_info": {
   "codemirror_mode": {
    "name": "ipython",
    "version": 3
   },
   "file_extension": ".py",
   "mimetype": "text/x-python",
   "name": "python",
   "nbconvert_exporter": "python",
   "pygments_lexer": "ipython3",
   "version": "3.12.1"
  }
 },
 "nbformat": 4,
 "nbformat_minor": 2
}
