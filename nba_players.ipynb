{
 "cells": [
  {
   "cell_type": "markdown",
   "metadata": {},
   "source": [
    "Get player_id for all active players"
   ]
  },
  {
   "cell_type": "code",
   "execution_count": 8,
   "metadata": {},
   "outputs": [
    {
     "name": "stdout",
     "output_type": "stream",
     "text": [
      "Total Player count: 531\n"
     ]
    }
   ],
   "source": [
    "from nba_api.stats.static import players\n",
    "\n",
    "# Get a dict of all players\n",
    "nba_players = players.get_players()\n",
    "\n",
    "# filter for active players\n",
    "active_players = [player for player in nba_players if player['is_active']]\n",
    "\n",
    "# Find specific player\n",
    "# booker = [player for player in nba_players if player['last_name'] == 'Booker'][0]\n",
    "\n",
    "print(f\"Total Player count: {len(active_players)}\")\n"
   ]
  },
  {
   "cell_type": "markdown",
   "metadata": {},
   "source": [
    "Download player images"
   ]
  },
  {
   "cell_type": "code",
   "execution_count": 9,
   "metadata": {},
   "outputs": [
    {
     "name": "stdout",
     "output_type": "stream",
     "text": [
      "Failed to download for Player ID 1630611\n",
      "530/531, 99.81% downloaded successfully.\n",
      "Missing player IDs are: 1630611 (Gui Santos)\n"
     ]
    }
   ],
   "source": [
    "import os\n",
    "import time\n",
    "import requests\n",
    "\n",
    "def download_img(player_id, folder):\n",
    "    url = f\"https://ak-static.cms.nba.com/wp-content/uploads/headshots/nba/latest/260x190/{player_id}.png\"\n",
    "    response = requests.get(url)\n",
    "    if response.status_code == 200:\n",
    "        with open(f\"{folder}/{player_id}.png\", 'wb') as f:\n",
    "            f.write(response.content)\n",
    "        return True\n",
    "    else:\n",
    "        print(f\"Failed to download for Player ID {player_id}\")\n",
    "        return False\n",
    "        \n",
    "# ensure folder exists\n",
    "folder_name = 'player_images_small'\n",
    "if not os.path.exists(folder_name):\n",
    "    os.makedirs(folder_name)\n",
    "    \n",
    "# Initialize counters and lists for tracking\n",
    "success_count = 0\n",
    "failed_downloads = []\n",
    "total_players = len(active_players)\n",
    "    \n",
    "# download all player images\n",
    "for player in active_players:\n",
    "    if download_img(player['id'], folder_name):\n",
    "        success_count += 1\n",
    "    else:\n",
    "        failed_downloads.append((player['id'], player['full_name']))\n",
    "    time.sleep(1) # be nice to the server\n",
    "    \n",
    "# Calculate stats\n",
    "percentage_success = (success_count / total_players) * 100\n",
    "missing_info = ', '.join([f\"{pid} ({name})\" for pid, name in failed_downloads])\n",
    "\n",
    "# Print summary\n",
    "print(f\"{success_count}/{total_players}, {percentage_success:.2f}% downloaded successfully.\")\n",
    "if failed_downloads:\n",
    "    print(f\"Missing player IDs are: {missing_info}\")\n",
    "else:\n",
    "    print(\"All player images downloaded successfully.\")\n"
   ]
  }
 ],
 "metadata": {
  "kernelspec": {
   "display_name": "jupenv",
   "language": "python",
   "name": "python3"
  },
  "language_info": {
   "codemirror_mode": {
    "name": "ipython",
    "version": 3
   },
   "file_extension": ".py",
   "mimetype": "text/x-python",
   "name": "python",
   "nbconvert_exporter": "python",
   "pygments_lexer": "ipython3",
   "version": "3.12.1"
  }
 },
 "nbformat": 4,
 "nbformat_minor": 2
}
